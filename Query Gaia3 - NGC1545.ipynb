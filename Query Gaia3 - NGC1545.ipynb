{
 "cells": [
  {
   "cell_type": "markdown",
   "metadata": {},
   "source": [
    "# Query of NGC 1545 in GAIA3"
   ]
  },
  {
   "cell_type": "markdown",
   "metadata": {},
   "source": [
    "Selection of the stars belonging to the open cluster with a selection on the parallaxes and on the distances."
   ]
  },
  {
   "cell_type": "code",
   "execution_count": 262,
   "metadata": {},
   "outputs": [],
   "source": [
    "import matplotlib.pyplot as plt\n",
    "%matplotlib inline\n",
    "import numpy as np\n",
    "\n",
    "from astropy import units as u\n",
    "from astropy.coordinates import SkyCoord, Distance\n",
    "from astropy.io import fits\n",
    "from astropy.table import QTable\n",
    "from astropy.utils.data import download_file\n",
    "\n",
    "from astroquery.gaia import Gaia\n",
    "Gaia.ROW_LIMIT = 15000  # Set the row limit for returned data"
   ]
  },
  {
   "cell_type": "code",
   "execution_count": 263,
   "metadata": {},
   "outputs": [
    {
     "data": {
      "text/plain": [
       "<SkyCoord (ICRS): (ra, dec) in deg\n",
       "    (65.09175941, 50.3062758)>"
      ]
     },
     "execution_count": 263,
     "metadata": {},
     "output_type": "execute_result"
    }
   ],
   "source": [
    "ngc1545_center = SkyCoord(65.09175940899979*u.deg, 50.30627580120292*u.deg, frame='icrs')\n",
    "ngc1545_center"
   ]
  },
  {
   "cell_type": "code",
   "execution_count": 264,
   "metadata": {},
   "outputs": [
    {
     "data": {
      "text/plain": [
       "<SkyCoord (ICRS): (ra, dec) in deg\n",
       "    (65.202, 50.221)>"
      ]
     },
     "execution_count": 264,
     "metadata": {},
     "output_type": "execute_result"
    }
   ],
   "source": [
    "ngc1545_center = SkyCoord.from_name('NGC 1545')\n",
    "job = Gaia.cone_search_async(ngc1545_center, radius=0.25*u.deg)\n",
    "ngc1545_table = job.get_results()"
   ]
  },
  {
   "cell_type": "markdown",
   "metadata": {
    "scrolled": true
   },
   "source": [
    "QUERY CATALOGUE"
   ]
  },
  {
   "cell_type": "code",
   "execution_count": 318,
   "metadata": {},
   "outputs": [
    {
     "name": "stdout",
     "output_type": "stream",
     "text": [
      "INFO: Query finished. [astroquery.utils.tap.core]\n"
     ]
    }
   ],
   "source": [
    "job = Gaia.cone_search_async(ngc1545_center, radius=0.25*u.deg)\n",
    "ngc1545_table = job.get_results()\n",
    "\n",
    "# only keep stars brighter than G=19 magnitude\n",
    "#ngc2437_table = ngc2437_table[ngc2437_table['phot_g_mean_mag'] < 19*u.mag]"
   ]
  },
  {
   "cell_type": "code",
   "execution_count": 267,
   "metadata": {
    "scrolled": true
   },
   "outputs": [
    {
     "data": {
      "text/plain": [
       "9342"
      ]
     },
     "execution_count": 267,
     "metadata": {},
     "output_type": "execute_result"
    }
   ],
   "source": [
    "len(ngc1545_table)"
   ]
  },
  {
   "cell_type": "code",
   "execution_count": 268,
   "metadata": {},
   "outputs": [],
   "source": [
    "ngc1545_table = ngc1545_table[ngc1545_table['phot_g_mean_mag'] < 19*u.mag]"
   ]
  },
  {
   "cell_type": "code",
   "execution_count": 269,
   "metadata": {},
   "outputs": [
    {
     "data": {
      "text/plain": [
       "3540"
      ]
     },
     "execution_count": 269,
     "metadata": {},
     "output_type": "execute_result"
    }
   ],
   "source": [
    "len(ngc1545_table)"
   ]
  },
  {
   "cell_type": "code",
   "execution_count": 270,
   "metadata": {
    "scrolled": false
   },
   "outputs": [],
   "source": [
    "cols = ['source_id',\n",
    " 'ra',\n",
    " 'dec',\n",
    " 'parallax',\n",
    " 'parallax_error',\n",
    " 'pmra',\n",
    " 'pmdec',\n",
    " 'radial_velocity',\n",
    " 'phot_g_mean_mag',\n",
    " 'phot_bp_mean_mag',\n",
    " 'phot_rp_mean_mag']\n",
    "ngc1545_table[cols].write('gaia_results.fits', overwrite=True)"
   ]
  },
  {
   "cell_type": "code",
   "execution_count": 271,
   "metadata": {
    "scrolled": false
   },
   "outputs": [],
   "source": [
    "ngc1545_table = QTable.read('gaia_results.fits')"
   ]
  },
  {
   "cell_type": "code",
   "execution_count": 273,
   "metadata": {},
   "outputs": [
    {
     "data": {
      "text/latex": [
       "$[65.204056,~65.193334,~65.20793,~\\dots,~64.840172,~65.233583,~65.513474] \\; \\mathrm{{}^{\\circ}}$"
      ],
      "text/plain": [
       "<Quantity [65.20405572, 65.19333425, 65.20792965, ..., 64.84017212,\n",
       "           65.23358345, 65.51347361] deg>"
      ]
     },
     "execution_count": 273,
     "metadata": {},
     "output_type": "execute_result"
    }
   ],
   "source": [
    "ngc1545_table['ra']"
   ]
  },
  {
   "cell_type": "code",
   "execution_count": 274,
   "metadata": {
    "scrolled": false
   },
   "outputs": [
    {
     "data": {
      "text/latex": [
       "$[50.223006,~50.218272,~50.229637,~\\dots,~50.127643,~49.971964,~50.070637] \\; \\mathrm{{}^{\\circ}}$"
      ],
      "text/plain": [
       "<Quantity [50.22300577, 50.21827183, 50.22963707, ..., 50.12764275,\n",
       "           49.97196445, 50.07063657] deg>"
      ]
     },
     "execution_count": 274,
     "metadata": {},
     "output_type": "execute_result"
    }
   ],
   "source": [
    "ngc1545_table['dec']"
   ]
  },
  {
   "cell_type": "code",
   "execution_count": 275,
   "metadata": {
    "scrolled": true
   },
   "outputs": [
    {
     "data": {
      "text/plain": [
       "<SkyCoord (ICRS): (ra, dec) in deg\n",
       "    [(65.20405572, 50.22300577), (65.19333425, 50.21827183),\n",
       "     (65.20792965, 50.22963707), ..., (64.84017212, 50.12764275),\n",
       "     (65.23358345, 49.97196445), (65.51347361, 50.07063657)]>"
      ]
     },
     "execution_count": 275,
     "metadata": {},
     "output_type": "execute_result"
    }
   ],
   "source": [
    "ngc1545_gaia_coords = SkyCoord(ngc1545_table['ra'], ngc1545_table['dec'])\n",
    "ngc1545_gaia_coords"
   ]
  },
  {
   "cell_type": "code",
   "execution_count": 277,
   "metadata": {
    "scrolled": true
   },
   "outputs": [
    {
     "data": {
      "text/latex": [
       "[$0^\\circ00{}^\\prime08.6348{}^{\\prime\\prime}$\n",
       " $0^\\circ00{}^\\prime22.2465{}^{\\prime\\prime}$\n",
       " $0^\\circ00{}^\\prime33.9605{}^{\\prime\\prime}$ ...\n",
       " $0^\\circ14{}^\\prime59.3957{}^{\\prime\\prime}$\n",
       " $0^\\circ14{}^\\prime59.4901{}^{\\prime\\prime}$\n",
       " $0^\\circ14{}^\\prime59.6437{}^{\\prime\\prime}$]"
      ],
      "text/plain": [
       "<Angle [0.00239856, 0.00617958, 0.00943348, ..., 0.24983215, 0.24985835,\n",
       "        0.24990104] deg>"
      ]
     },
     "execution_count": 277,
     "metadata": {},
     "output_type": "execute_result"
    }
   ],
   "source": [
    "ngc1545_gaia_coords.separation(ngc1545_center)"
   ]
  },
  {
   "cell_type": "code",
   "execution_count": 279,
   "metadata": {},
   "outputs": [],
   "source": [
    "ngc1545_center_3d = SkyCoord(65.202*u.deg, 50.221*u.deg,\n",
    "                            distance=0.711*u.kpc)"
   ]
  },
  {
   "cell_type": "code",
   "execution_count": 281,
   "metadata": {},
   "outputs": [
    {
     "data": {
      "text/latex": [
       "$[3.3827902,~5.2407876,~1.1067718,~\\dots,~5.0606624,~-0.25535815,~-0.58119625] \\; \\mathrm{}$"
      ],
      "text/plain": [
       "<Quantity [ 3.38279018,  5.24078756,  1.1067718 , ...,  5.06066242,\n",
       "           -0.25535815, -0.58119625]>"
      ]
     },
     "execution_count": 281,
     "metadata": {},
     "output_type": "execute_result"
    }
   ],
   "source": [
    "parallax_snr = ngc1545_table['parallax'] / ngc1545_table['parallax_error']\n",
    "ngc1545_table_3d = ngc1545_table[parallax_snr > 10] \n",
    "\n",
    "\n",
    "len(ngc1545_table_3d)\n",
    "parallax_snr"
   ]
  },
  {
   "cell_type": "code",
   "execution_count": 282,
   "metadata": {
    "scrolled": true
   },
   "outputs": [
    {
     "data": {
      "text/latex": [
       "$1000 \\; \\mathrm{pc}$"
      ],
      "text/plain": [
       "<Distance 1000. pc>"
      ]
     },
     "execution_count": 282,
     "metadata": {},
     "output_type": "execute_result"
    }
   ],
   "source": [
    "Distance(parallax=1*u.mas)"
   ]
  },
  {
   "cell_type": "code",
   "execution_count": 283,
   "metadata": {},
   "outputs": [
    {
     "data": {
      "text/latex": [
       "$[621.33199,~2865.3591,~1627.4919,~\\dots,~1099.4546,~1122.0742,~1719.6371] \\; \\mathrm{pc}$"
      ],
      "text/plain": [
       "<Distance [ 621.33199087, 2865.3590519 , 1627.49194513,  710.25613603,\n",
       "            622.75940308,  613.03356702,  881.43564568,  818.28828872,\n",
       "            851.81034738, 1171.38675094,  729.05645219,  798.55881324,\n",
       "            755.0045307 , 1163.37854739,  547.24621285, 1271.1215855 ,\n",
       "            775.1543384 ,  480.23283518,  350.95454865, 1696.29285469,\n",
       "            675.70264649,  708.33554002, 1354.78785464,  865.67888548,\n",
       "            874.06810133, 1446.77298596, 1248.25207056,  725.10288124,\n",
       "           1276.74764025,  696.2363015 ,  677.57175889,  294.8317837 ,\n",
       "            832.05958626, 1392.81297029,  705.95543507, 1585.36776306,\n",
       "            740.29900557, 1629.88658936, 1181.74109309,  874.84691996,\n",
       "            757.32027511,  730.98230262,  791.68853869,  736.09837892,\n",
       "           1063.82892332, 1156.81890892,  798.17136923,  578.25474603,\n",
       "            556.63461048,  651.44667937, 1103.79990529,  745.38250673,\n",
       "           1105.46594555, 1207.78889789, 1895.03186409,  856.37283456,\n",
       "            742.37547129,  791.10062624, 2395.91779819,  943.93801187,\n",
       "            718.67986981,  447.88956488,  779.74107286, 1833.027068  ,\n",
       "            694.07206524,  799.8716086 , 1422.78102787,  711.4597249 ,\n",
       "            742.01439126, 1803.85384152,  850.99582329, 3096.7808922 ,\n",
       "           1462.44376248,  884.22128048, 2926.31646658,  850.56591553,\n",
       "            863.57856753, 1411.37954711, 2013.86590237,  707.17433737,\n",
       "           1752.05684031, 2029.61284168,  649.91452285,  984.33034234,\n",
       "            560.86207068,  875.14045048, 1208.85503428, 1084.63468497,\n",
       "           1694.29242695,  674.40138263, 1342.70379316, 2477.501477  ,\n",
       "           1530.10649568, 1557.63044494,  835.51524917, 1092.73316445,\n",
       "            243.4809952 , 1973.86597879, 1410.29361554, 1704.76786814,\n",
       "            726.94059685,  708.18362353, 1284.19238836,  779.11853233,\n",
       "            446.60663583, 1329.05928255, 1071.20775436, 1281.27394094,\n",
       "            695.9441314 , 1578.9859034 ,  769.30870781,  795.42309272,\n",
       "            919.67740523, 1581.91408824,  783.57508163, 1586.03288831,\n",
       "            291.86550699, 2340.46988342,  288.09649555,  761.41253745,\n",
       "            669.59057539, 1028.46371619,  542.60638761,  712.02247921,\n",
       "           1220.86339257,  832.66455767,  193.65641826, 1841.21931633,\n",
       "            694.08291982, 1925.18496818, 1946.03217753,  870.88215339,\n",
       "            645.37178479,  783.28815768, 1841.28931775,  698.24588409,\n",
       "           1696.22729523,  506.11236763,  997.93054647,  664.40543581,\n",
       "            438.99014721,  325.51619431,  762.7189636 , 1761.03229155,\n",
       "           2445.67031167, 1727.09418796,  911.78217927,  647.57744863,\n",
       "            660.83672527,  704.04811003, 2501.11651111, 1324.41131126,\n",
       "            528.5369695 , 2676.91388901,  496.65340102,  450.14288821,\n",
       "            351.36033879,  856.79119671, 2060.68740823,  840.48372729,\n",
       "            673.32004008, 1387.791863  ,  922.80338845,  966.02953844,\n",
       "           1021.57806006, 2384.41519876, 1037.58675055, 3178.48294076,\n",
       "           1132.04304289,  697.39317066, 1515.26920218,  192.13176604,\n",
       "           1015.26364382, 1345.83795433, 1485.75025827,  793.68404004,\n",
       "           1749.13563358, 1305.30676729, 1231.03167536, 1095.45507274,\n",
       "           1815.64471683, 1258.50106045, 1402.59892129, 1416.10049605,\n",
       "            268.09914936,  605.39254948, 2084.87222064, 1381.17787789,\n",
       "            802.15713116,  776.40035471,  813.57997844, 1134.91857242,\n",
       "           1687.43159808, 3402.88662677, 1161.78713512,  326.00171885,\n",
       "           2396.04680453, 1749.42832484,  987.51820804, 1285.45759876,\n",
       "            757.97528072, 1328.72936702, 1492.53018388,  725.47858296,\n",
       "           1504.14967132,  715.49024978,  776.8477715 ,  815.18836452,\n",
       "            713.10157679, 2115.21592302, 3016.64564691,  740.55973742,\n",
       "            539.57688372,  722.31894535, 2733.07005042, 2096.67107686,\n",
       "            467.45923128, 1015.70717675,  751.15103683,  582.02361288,\n",
       "           1242.95066487,  171.14634599, 1189.87467989, 1013.62077463,\n",
       "           2563.14854977,  940.36834789,  773.44967312,  464.30064004,\n",
       "           1410.58631893, 1020.1659085 , 1714.6519971 , 1317.71681955,\n",
       "           1524.19192445, 1275.20474015, 1384.49691454,  451.61835183,\n",
       "            266.13036581, 1398.68907055, 1178.22772078,  968.090649  ,\n",
       "            815.30072342, 2198.64099798, 1126.47302418, 1467.52258595,\n",
       "           1929.93618427, 1102.70650025,  321.88392038,  893.51051566,\n",
       "           2305.28996887,  764.22363923, 1958.1488648 ,  302.98939374,\n",
       "            629.82334053,  985.78051732, 1009.65047324, 1015.21001464,\n",
       "            900.40485649,  963.2193303 , 1687.39793625,  925.87133039,\n",
       "           1919.2967055 , 2467.0986866 ,  725.34119826, 1913.09519181,\n",
       "            858.26509082, 1203.46238969, 1029.60838905,  930.31289126,\n",
       "           2588.68864881, 2271.81153008,  617.69335379,  594.06345017,\n",
       "            217.98132231,  934.40448003,  457.69840138, 1923.12450979,\n",
       "            727.8832968 ,  788.04615999,  814.17635087,  897.04515359,\n",
       "           1420.06637935, 1149.51931741, 1935.30481317,  750.77043272,\n",
       "            128.91582632, 2881.59194687,  794.84651586,  734.53816854,\n",
       "            834.72555095,  560.12848962,  691.61272622,  820.86700044,\n",
       "            208.02602949,  357.1087759 , 2384.94310314, 1235.14445972,\n",
       "            796.37653091,  127.2175534 , 2572.60574792, 2400.45226575,\n",
       "            335.16117542, 1523.51173571,  590.98554631, 1124.54445582,\n",
       "            569.92938407,  565.16461254, 2195.01245025, 1058.95923624,\n",
       "            466.21678656,  257.44807046,  369.58774108, 1484.323418  ,\n",
       "            646.39705896, 1594.62448834, 1055.89880064,  307.81489106,\n",
       "            890.82993543,  655.6505822 , 1522.13154945,  457.27962631,\n",
       "            621.24339248, 1227.44082337, 1560.02722394, 2702.7634163 ,\n",
       "           1104.52155164, 1548.38517367,  311.94714051, 1612.24808905,\n",
       "            342.47693097, 1180.9970969 ,  830.65394495, 1476.41703709,\n",
       "           1333.71664677, 1577.55945473,  282.00908213,  836.0498743 ,\n",
       "            804.95449834,  715.29243409,  789.24005718,  773.96545335,\n",
       "            524.05374508,  715.82774813, 1343.26238824,  865.31227959,\n",
       "            680.37540336,  727.35450444, 1651.6524675 ,  951.79720545,\n",
       "           2712.54051594,  383.2083299 ,  759.26598636, 1372.40647073,\n",
       "           1477.89063976,  639.50752463, 1243.96852269, 1309.01719063,\n",
       "           1174.42196341,  921.1588133 ,  744.3893569 ,  527.71744383,\n",
       "            147.88417412, 1558.46407134,  343.65240071, 1000.95238841,\n",
       "           1531.61651966,  571.70951027,  791.89432019,  747.91302285,\n",
       "            551.07807315, 1163.14966051,  868.69388079, 2934.53765047,\n",
       "           1636.95828586, 1294.05277054,  634.08471004,  812.04886988,\n",
       "           1736.84623634, 1120.87624438,  153.24063909, 1615.68416189,\n",
       "           1236.84388567, 1266.31404685,  746.45015958, 1344.86816102,\n",
       "           2089.14372383,  754.12057545,  789.38487269,  864.26849984,\n",
       "           2710.73712956, 1244.99474559, 1064.01665841,  803.55831834,\n",
       "           1251.92295249, 1194.50728786,  892.94315151, 1029.257068  ,\n",
       "           1427.22300788, 2883.0367671 ,  649.41765592, 1414.12269044,\n",
       "            498.23019102,  392.29904449,  597.62847946,  871.94979551,\n",
       "           1562.71834594,  809.53616996,  721.50773129, 1250.31020229,\n",
       "            719.32320387,  351.94030263,  496.48098362,  750.25243957,\n",
       "           1405.15743288, 1596.20720376,  707.01256851,  580.06345994,\n",
       "            881.35797597,  384.92992777, 1071.76627527, 2156.09328431,\n",
       "            882.23789741,  838.01677399, 1303.68626461, 1151.35931884,\n",
       "            456.25789575, 1128.01917341,  818.08876264,  791.18984809,\n",
       "           1104.50107519, 1000.18822135, 1278.33962783,  729.87390039,\n",
       "            858.67551476, 1148.96430861,  648.13539382, 3029.93995436,\n",
       "            706.19285287,  759.44950945, 2923.8902782 , 1265.53651659,\n",
       "           1398.93674359,  785.11722263,  679.83744782,  404.3161337 ,\n",
       "            450.83930325, 1511.53838819, 1644.74110297, 1715.0273593 ,\n",
       "             92.19721324, 3891.04329736,  349.76860019,  726.03188312,\n",
       "           2573.96091462,  839.57667595,  554.203169  ,  887.94578744,\n",
       "            561.21384485,  521.45180044,  734.35873121,  917.71853572,\n",
       "            181.31326921,  505.38189668, 1448.59449312, 1095.97448878,\n",
       "            356.55681337,   85.63366026,  713.67123384, 1815.94346509,\n",
       "            840.48306984,  473.08867794,  879.57920176,  928.79737193,\n",
       "            707.14102269, 2436.77578684,  789.9387993 ,  561.09051848,\n",
       "            834.67055333,  467.77352834,  746.34831595, 1135.49669236,\n",
       "            973.40159018,  807.12679154, 1452.78747362,  735.57123487,\n",
       "            834.12210071,  388.95193507,  267.32666183,  757.13430387,\n",
       "           1360.6385783 ,  859.38589875, 1503.34108805,  365.93845678,\n",
       "            646.74601427,  320.43987616, 1011.65412604,  761.85344915,\n",
       "            756.75419117, 2678.7875055 , 1410.89212052, 1242.92930603,\n",
       "            738.11921853, 1269.6539535 ,  461.43427265,  388.47685963,\n",
       "           1063.32924646,  554.13919172,  478.78919194,  836.05902076,\n",
       "           1438.866539  , 1216.57193768,  596.97031997, 1653.74908824,\n",
       "           1272.39654103,  547.52220458, 1873.63605744, 2089.61916033,\n",
       "           1344.1062753 ,  758.45094904,  785.06794463,  981.73133877,\n",
       "           1017.31525954, 1241.46057403,  323.86468233,  476.03779768,\n",
       "           1112.18507705,  193.75915096,  716.73317661,  773.34560373,\n",
       "           1210.95630857,  578.38900416,  935.03074636, 1246.94299625,\n",
       "            613.24756326,  867.28253374, 1099.45458379, 1122.07423648,\n",
       "           1719.63708082] pc>"
      ]
     },
     "execution_count": 283,
     "metadata": {},
     "output_type": "execute_result"
    }
   ],
   "source": [
    "gaia_dist = Distance(parallax=ngc1545_table_3d['parallax'])\n",
    "gaia_dist"
   ]
  },
  {
   "cell_type": "code",
   "execution_count": 285,
   "metadata": {},
   "outputs": [
    {
     "data": {
      "text/plain": [
       "537"
      ]
     },
     "execution_count": 285,
     "metadata": {},
     "output_type": "execute_result"
    }
   ],
   "source": [
    "gaia_dist = Distance(parallax=ngc1545_table_3d['parallax'])\n",
    "ngc1545_coords_3d = SkyCoord(ra=ngc1545_table_3d['ra'], \n",
    "                            dec=ngc1545_table_3d['dec'],\n",
    "                            distance=gaia_dist)\n",
    "\n",
    "\n",
    "ngc1545_coords_3d\n",
    "len(ngc1545_coords_3d)"
   ]
  },
  {
   "cell_type": "code",
   "execution_count": 287,
   "metadata": {},
   "outputs": [
    {
     "data": {
      "text/plain": [
       "Text(0.5, 1.0, 'Gaia DR2 sources near NGC 1545')"
      ]
     },
     "execution_count": 287,
     "metadata": {},
     "output_type": "execute_result"
    },
    {
     "data": {
      "image/png": "[encoded data removed]",
      "text/plain": [
       "<Figure size 468x374.4 with 2 Axes>"
      ]
     },
     "metadata": {
      "needs_background": "light"
     },
     "output_type": "display_data"
    }
   ],
   "source": [
    "fig, ax = plt.subplots(figsize=(6.5, 5.2),\n",
    "                       constrained_layout=True)\n",
    "cs = ax.scatter(ngc1545_coords_3d.ra.degree, \n",
    "                ngc1545_coords_3d.dec.degree, \n",
    "                c=ngc1545_coords_3d.distance.kpc, \n",
    "                s=5, vmin=1.5, vmax=2.5, cmap='twilight')\n",
    "cb = fig.colorbar(cs)\n",
    "cb.set_label(f'distance [{u.kpc:latex_inline}]')\n",
    "\n",
    "ax.set_xlabel('RA [deg]')\n",
    "ax.set_ylabel('Dec [deg]')\n",
    "\n",
    "ax.set_title('Gaia DR2 sources near NGC 1545', fontsize=18)"
   ]
  },
  {
   "cell_type": "code",
   "execution_count": 289,
   "metadata": {},
   "outputs": [
    {
     "data": {
      "text/latex": [
       "$[89.668303,~2154.3591,~916.49208,~\\dots,~388.47367,~411.09266,~1008.6486] \\; \\mathrm{pc}$"
      ],
      "text/plain": [
       "<Distance [8.96683033e+01, 2.15435914e+03, 9.16492084e+02, 8.36572385e-01,\n",
       "           8.82413663e+01, 9.79671499e+01, 1.70436243e+02, 1.07289174e+02,\n",
       "           1.40811110e+02, 4.60387089e+02, 1.80619413e+01, 8.75601629e+01,\n",
       "           4.40071550e+01, 4.52378942e+02, 1.63754358e+02, 5.60121977e+02,\n",
       "           6.41565921e+01, 2.30767556e+02, 3.60045638e+02, 9.85293201e+02,\n",
       "           3.53012660e+01, 2.71936356e+00, 6.43788303e+02, 1.54680168e+02,\n",
       "           1.63069454e+02, 7.35773483e+02, 5.37252662e+02, 1.41169053e+01,\n",
       "           5.65748259e+02, 1.47769982e+01, 3.34339767e+01, 4.16168427e+02,\n",
       "           1.21061648e+02, 6.81813586e+02, 5.08786599e+00, 8.74368375e+02,\n",
       "           2.93081383e+01, 9.18887235e+02, 4.70742059e+02, 1.63849033e+02,\n",
       "           4.63268410e+01, 1.99972365e+01, 8.06926040e+01, 2.51109350e+01,\n",
       "           3.52830228e+02, 4.45820047e+02, 8.71755381e+01, 1.32747287e+02,\n",
       "           1.54367150e+02, 5.95586747e+01, 3.92801284e+02, 3.43933619e+01,\n",
       "           3.94467366e+02, 4.96790153e+02, 1.18403270e+03, 1.45375967e+02,\n",
       "           3.13881815e+01, 8.01061192e+01, 1.68491860e+03, 2.32940338e+02,\n",
       "           7.73413080e+00, 2.63111539e+02, 6.87484744e+01, 1.12202817e+03,\n",
       "           1.69570211e+01, 8.88780597e+01, 7.11782481e+02, 1.11815313e+00,\n",
       "           3.10320726e+01, 1.09285508e+03, 1.40000382e+02, 2.38578187e+03,\n",
       "           7.51445244e+02, 1.73225206e+02, 2.21531750e+03, 1.39570735e+02,\n",
       "           1.52583053e+02, 7.00381169e+02, 1.30286715e+03, 3.97197922e+00,\n",
       "           1.04105820e+03, 1.31861419e+03, 6.10948206e+01, 2.73333538e+02,\n",
       "           1.50141281e+02, 1.64145243e+02, 4.97857225e+02, 3.73637310e+02,\n",
       "           9.83293996e+02, 3.66160406e+01, 6.31705806e+02, 1.76650283e+03,\n",
       "           8.19108323e+02, 8.46632270e+02, 1.24521927e+02, 3.81736054e+02,\n",
       "           4.67519538e+02, 1.26286760e+03, 6.99295746e+02, 9.93769689e+02,\n",
       "           1.59891650e+01, 3.07592422e+00, 5.73194818e+02, 6.81309748e+01,\n",
       "           2.64395205e+02, 6.18061643e+02, 3.60211066e+02, 5.70276484e+02,\n",
       "           1.51083107e+01, 8.67988029e+02, 5.83242327e+01, 8.44342045e+01,\n",
       "           2.08682640e+02, 8.70916255e+02, 7.25880585e+01, 8.75035090e+02,\n",
       "           4.19135358e+02, 1.62947167e+03, 4.22904358e+02, 5.04314892e+01,\n",
       "           4.14301489e+01, 3.17467895e+02, 1.68397892e+02, 1.72616393e+00,\n",
       "           5.09866652e+02, 1.21674102e+02, 5.17344114e+02, 1.13022164e+03,\n",
       "           1.69758670e+01, 1.21418727e+03, 1.23503448e+03, 1.59890271e+02,\n",
       "           6.56429102e+01, 7.23047906e+01, 1.13029184e+03, 1.28406859e+01,\n",
       "           9.85230030e+02, 2.04891586e+02, 2.86936138e+02, 4.66176252e+01,\n",
       "           2.72012472e+02, 3.85485178e+02, 5.17430250e+01, 1.05003505e+03,\n",
       "           1.73467264e+03, 1.01609703e+03, 2.00789827e+02, 6.34397559e+01,\n",
       "           5.01859495e+01, 7.12732422e+00, 1.79011896e+03, 6.13415110e+02,\n",
       "           1.82468158e+02, 1.96591631e+03, 2.14350799e+02, 2.60860244e+02,\n",
       "           3.59641451e+02, 1.45801979e+02, 1.34969022e+03, 1.29495799e+02,\n",
       "           3.77134765e+01, 6.76795712e+02, 2.11811591e+02, 2.55036711e+02,\n",
       "           3.10584401e+02, 1.67341795e+03, 3.26592916e+02, 2.46748547e+03,\n",
       "           4.21048337e+02, 1.37079954e+01, 8.04272978e+02, 5.18868983e+02,\n",
       "           3.04270458e+02, 6.34842321e+02, 7.74754309e+02, 8.27044679e+01,\n",
       "           1.03813923e+03, 5.94311467e+02, 5.20036795e+02, 3.84461287e+02,\n",
       "           1.10464831e+03, 5.47506103e+02, 6.91603383e+02, 7.05104929e+02,\n",
       "           4.42902196e+02, 1.05620308e+02, 1.37387569e+03, 6.70182610e+02,\n",
       "           9.11777035e+01, 6.54281938e+01, 1.02598860e+02, 4.23924965e+02,\n",
       "           9.76435743e+02, 2.69188966e+03, 4.50793322e+02, 3.85000326e+02,\n",
       "           1.68505028e+03, 1.03843246e+03, 2.76527011e+02, 5.74463229e+02,\n",
       "           4.70160513e+01, 6.17734811e+02, 7.81535021e+02, 1.46068635e+01,\n",
       "           7.93154558e+02, 4.88751822e+00, 6.58787802e+01, 1.04209015e+02,\n",
       "           2.86454960e+00, 1.40421993e+03, 2.30564913e+03, 2.96262673e+01,\n",
       "           1.71431491e+02, 1.14882756e+01, 2.02207369e+03, 1.38567517e+03,\n",
       "           2.43545964e+02, 3.04716240e+02, 4.02019616e+01, 1.28988693e+02,\n",
       "           5.31957136e+02, 5.39854538e+02, 4.78881618e+02, 3.02630157e+02,\n",
       "           1.85215243e+03, 2.29379891e+02, 6.24848093e+01, 2.46704705e+02,\n",
       "           6.99592066e+02, 3.09175353e+02, 1.00365690e+03, 6.06723065e+02,\n",
       "           8.13197318e+02, 5.64211255e+02, 6.73502849e+02, 2.59386686e+02,\n",
       "           4.44871369e+02, 6.87695072e+02, 4.67235212e+02, 2.57101967e+02,\n",
       "           1.04324446e+02, 1.48764550e+03, 4.15481290e+02, 7.56528524e+02,\n",
       "           1.21894104e+03, 3.91715160e+02, 3.89118647e+02, 1.82525813e+02,\n",
       "           1.59429449e+03, 5.32686844e+01, 1.24715380e+03, 4.08012943e+02,\n",
       "           8.12011572e+01, 2.74791855e+02, 2.98661225e+02, 3.04220703e+02,\n",
       "           1.89420080e+02, 2.52231590e+02, 9.76403497e+02, 2.14885202e+02,\n",
       "           1.20830184e+03, 1.75610323e+03, 1.45045463e+01, 1.20210040e+03,\n",
       "           1.47284169e+02, 4.92470454e+02, 3.18619108e+02, 2.19326969e+02,\n",
       "           1.87769324e+03, 1.56081639e+03, 9.33288012e+01, 1.16953650e+02,\n",
       "           4.93020168e+02, 2.23418612e+02, 2.53307705e+02, 1.21212988e+03,\n",
       "           1.70293490e+01, 7.70815707e+01, 1.03203734e+02, 1.86062037e+02,\n",
       "           7.09073411e+02, 4.38528588e+02, 1.22431041e+03, 3.98377619e+01,\n",
       "           5.82084965e+02, 2.17059669e+03, 8.38804686e+01, 2.36504120e+01,\n",
       "           1.23749901e+02, 1.50884967e+02, 1.95162406e+01, 1.09894113e+02,\n",
       "           5.02975474e+02, 3.53894902e+02, 1.67394830e+03, 5.24153077e+02,\n",
       "           8.54107522e+01, 5.83783247e+02, 1.86161087e+03, 1.68945753e+03,\n",
       "           3.75842160e+02, 8.12518760e+02, 1.20032901e+02, 4.13554674e+02,\n",
       "           1.41085821e+02, 1.45850003e+02, 1.48401804e+03, 3.47970738e+02,\n",
       "           2.44790421e+02, 4.53554078e+02, 3.41416363e+02, 7.73330715e+02,\n",
       "           6.46409785e+01, 8.83631352e+02, 3.44910465e+02, 4.03188017e+02,\n",
       "           1.79848825e+02, 5.53947579e+01, 8.11138749e+02, 2.53727289e+02,\n",
       "           8.97832925e+01, 5.16450017e+02, 8.49034436e+02, 1.99176875e+03,\n",
       "           3.93532590e+02, 8.37392534e+02, 3.99055974e+02, 9.01255222e+02,\n",
       "           3.68526775e+02, 4.70007122e+02, 1.19681753e+02, 7.65424768e+02,\n",
       "           6.22725238e+02, 8.66566758e+02, 4.28993560e+02, 1.25076820e+02,\n",
       "           9.39891739e+01, 4.92271657e+00, 7.82813206e+01, 6.30159417e+01,\n",
       "           1.86957821e+02, 5.40514600e+00, 6.32271162e+02, 1.54335440e+02,\n",
       "           3.07165490e+01, 1.65381261e+01, 9.40659760e+02, 2.40813634e+02,\n",
       "           2.00154621e+03, 3.27796586e+02, 4.83321288e+01, 6.61415203e+02,\n",
       "           7.66898788e+02, 7.15303454e+01, 5.32978429e+02, 5.98026569e+02,\n",
       "           4.63432859e+02, 2.10177760e+02, 3.34856369e+01, 1.83295019e+02,\n",
       "           5.63116971e+02, 8.47472099e+02, 3.67351710e+02, 2.89967622e+02,\n",
       "           8.20624771e+02, 1.39308644e+02, 8.09376639e+01, 3.70033476e+01,\n",
       "           1.59937310e+02, 4.52161157e+02, 1.57718513e+02, 2.22354356e+03,\n",
       "           9.25966230e+02, 5.83062776e+02, 7.69525405e+01, 1.01085351e+02,\n",
       "           1.02585392e+03, 4.09888665e+02, 5.57760622e+02, 9.04692362e+02,\n",
       "           5.25854842e+02, 5.55324676e+02, 3.55487409e+01, 6.33878172e+02,\n",
       "           1.37815088e+03, 4.32036680e+01, 7.84330192e+01, 1.53295484e+02,\n",
       "           1.99974363e+03, 5.34005927e+02, 3.53031163e+02, 9.26001498e+01,\n",
       "           5.40934107e+02, 4.83519208e+02, 1.81966914e+02, 3.18272749e+02,\n",
       "           7.16232707e+02, 2.17204323e+03, 6.16337229e+01, 7.03132508e+02,\n",
       "           2.12781382e+02, 3.18707063e+02, 1.13397700e+02, 1.60976883e+02,\n",
       "           8.51727527e+02, 9.85773935e+01, 1.08470513e+01, 5.39321858e+02,\n",
       "           8.74821456e+00, 3.59064646e+02, 2.14530765e+02, 3.93494520e+01,\n",
       "           6.94167737e+02, 8.85216385e+02, 4.81250951e+00, 1.30959404e+02,\n",
       "           1.70384761e+02, 3.26076188e+02, 3.60781728e+02, 1.44510111e+03,\n",
       "           1.71264927e+02, 1.27051484e+02, 5.92697850e+02, 4.40373121e+02,\n",
       "           2.54751569e+02, 4.17033512e+02, 1.07129328e+02, 8.02424233e+01,\n",
       "           3.93516161e+02, 2.89206817e+02, 5.67351809e+02, 1.90829597e+01,\n",
       "           1.47707288e+02, 4.37978648e+02, 6.29209816e+01, 2.31894711e+03,\n",
       "           5.55445123e+00, 4.85359315e+01, 2.21289758e+03, 5.54549122e+02,\n",
       "           6.87947981e+02, 7.41757659e+01, 3.12833540e+01, 3.06691213e+02,\n",
       "           2.60170374e+02, 8.00548988e+02, 9.33751008e+02, 1.00403699e+03,\n",
       "           6.18803628e+02, 3.18005023e+03, 3.61236888e+02, 1.53040309e+01,\n",
       "           1.86296878e+03, 1.28613877e+02, 1.56816998e+02, 1.76974607e+02,\n",
       "           1.49807693e+02, 1.89564018e+02, 2.35390635e+01, 2.06744148e+02,\n",
       "           5.29688712e+02, 2.05632330e+02, 7.37605877e+02, 3.84991024e+02,\n",
       "           3.54449032e+02, 6.25367139e+02, 3.93442554e+00, 1.10495309e+03,\n",
       "           1.29521119e+02, 2.37922984e+02, 1.68609819e+02, 2.17822474e+02,\n",
       "           4.82091094e+00, 1.72578413e+03, 7.89981635e+01, 1.49931706e+02,\n",
       "           1.23710653e+02, 2.43237929e+02, 3.54742483e+01, 4.24512702e+02,\n",
       "           2.62423825e+02, 9.61771278e+01, 7.41799230e+02, 2.47509514e+01,\n",
       "           1.23162967e+02, 3.22055354e+02, 4.43676980e+02, 4.62339853e+01,\n",
       "           6.49651368e+02, 1.48421281e+02, 7.92352684e+02, 3.45068024e+02,\n",
       "           6.43154817e+01, 3.90565156e+02, 3.00674786e+02, 5.09453692e+01,\n",
       "           4.58557399e+01, 1.96779588e+03, 6.99904548e+02, 5.31943725e+02,\n",
       "           2.72867707e+01, 5.58668019e+02, 2.49577197e+02, 3.22530620e+02,\n",
       "           3.52347998e+02, 1.56882840e+02, 2.32223693e+02, 1.25100800e+02,\n",
       "           7.27878911e+02, 5.05587033e+02, 1.14062647e+02, 9.42760194e+02,\n",
       "           5.61410999e+02, 1.63499269e+02, 1.16264641e+03, 1.37862892e+03,\n",
       "           6.33119976e+02, 4.75540697e+01, 7.41364665e+01, 2.70754802e+02,\n",
       "           3.06336785e+02, 5.30475764e+02, 3.87140766e+02, 2.34975431e+02,\n",
       "           4.01203200e+02, 5.17243310e+02, 6.50330126e+00, 6.24271199e+01,\n",
       "           4.99972334e+02, 1.32640063e+02, 2.24058702e+02, 5.35958601e+02,\n",
       "           9.77945976e+01, 1.56319888e+02, 3.88473672e+02, 4.11092661e+02,\n",
       "           1.00864859e+03] pc>"
      ]
     },
     "execution_count": 289,
     "metadata": {},
     "output_type": "execute_result"
    }
   ],
   "source": [
    "sep3d = ngc1545_coords_3d.separation_3d(ngc1545_center_3d)\n",
    "sep3d"
   ]
  },
  {
   "cell_type": "code",
   "execution_count": 291,
   "metadata": {},
   "outputs": [
    {
     "data": {
      "text/plain": [
       "128"
      ]
     },
     "execution_count": 291,
     "metadata": {},
     "output_type": "execute_result"
    }
   ],
   "source": [
    "ngc1545_3d_mask = sep3d < 100*u.pc\n",
    "ngc1545_3d_mask.sum()"
   ]
  },
  {
   "cell_type": "code",
   "execution_count": 292,
   "metadata": {},
   "outputs": [
    {
     "data": {
      "text/plain": [
       "128"
      ]
     },
     "execution_count": 292,
     "metadata": {},
     "output_type": "execute_result"
    }
   ],
   "source": [
    "ngc1545_members = ngc1545_table_3d[ngc1545_3d_mask]\n",
    "ngc1545_members_coords = ngc1545_coords_3d[ngc1545_3d_mask]\n",
    "len(ngc1545_members)"
   ]
  },
  {
   "cell_type": "code",
   "execution_count": 293,
   "metadata": {},
   "outputs": [],
   "source": [
    "from astropy.io import ascii\n",
    "name_csv = 'NGC1545-Gaia-less100pc.csv'\n",
    "ascii.write(ngc1545_members, name_csv, format='csv', overwrite=True )"
   ]
  },
  {
   "cell_type": "code",
   "execution_count": 294,
   "metadata": {},
   "outputs": [
    {
     "data": {
      "text/html": [
       "<i>QTable length=128</i>\n",
       "<table id=\"table1831597337952\" class=\"table-striped table-bordered table-condensed\">\n",
       "<thead><tr><th>source_id</th><th>ra</th><th>dec</th><th>parallax</th><th>parallax_error</th><th>pmra</th><th>pmdec</th><th>radial_velocity</th><th>phot_g_mean_mag</th><th>phot_bp_mean_mag</th><th>phot_rp_mean_mag</th></tr></thead>\n",
       "<thead><tr><th></th><th>deg</th><th>deg</th><th>mas</th><th>mas</th><th>mas / yr</th><th>mas / yr</th><th>km / s</th><th>mag</th><th>mag</th><th>mag</th></tr></thead>\n",
       "<thead><tr><th>int64</th><th>float64</th><th>float64</th><th>float64</th><th>float64</th><th>float64</th><th>float64</th><th>float64</th><th>float32</th><th>float32</th><th>float32</th></tr></thead>\n",
       "<tr><td>270665922717252352</td><td>65.20707347551121</td><td>50.20146785336598</td><td>1.6094455374920176</td><td>0.041619677617130674</td><td>-0.05500305966896901</td><td>-5.7547133914275435</td><td>1e+20</td><td>15.48967456817627</td><td>16.156274795532227</td><td>14.697970390319824</td></tr>\n",
       "<tr><td>270666330735648128</td><td>65.2498021210983</td><td>50.21688286997158</td><td>1.4079427818635657</td><td>0.11069894230209422</td><td>-1.7131718526377053</td><td>-0.020136059096353052</td><td>1e+20</td><td>17.3516902923584</td><td>18.293960571289062</td><td>16.378934860229492</td></tr>\n",
       "<tr><td>270665888357526656</td><td>65.18741004664521</td><td>50.19067712527494</td><td>1.6057565651306385</td><td>0.05079113725852206</td><td>10.015168532046845</td><td>-24.45730030001488</td><td>1e+20</td><td>14.141936302185059</td><td>14.63163948059082</td><td>13.490936279296875</td></tr>\n",
       "<tr><td>270669083813185280</td><td>65.15116565358302</td><td>50.22112270128298</td><td>1.6312320463445653</td><td>0.0384569637296716</td><td>-1.3975409980021878</td><td>-0.4737620491766795</td><td>1e+20</td><td>11.739593505859375</td><td>11.972491264343262</td><td>11.364331245422363</td></tr>\n",
       "<tr><td>270669221252110208</td><td>65.17661566970504</td><td>50.25249540970388</td><td>1.371635895949395</td><td>0.02739235261554408</td><td>-1.3506563897339694</td><td>0.5522886770209812</td><td>1e+20</td><td>14.09617805480957</td><td>14.626587867736816</td><td>13.409073829650879</td></tr>\n",
       "<tr><td>270669393050811008</td><td>65.16047039705167</td><td>50.24670737650233</td><td>1.2522559183125914</td><td>0.04156656334612353</td><td>-3.74591869148761</td><td>-2.3600553620894376</td><td>1e+20</td><td>12.619795799255371</td><td>13.019957542419434</td><td>12.051581382751465</td></tr>\n",
       "<tr><td>270669079518502272</td><td>65.14367379920316</td><td>50.22546255756988</td><td>1.3244953630573817</td><td>0.037002355744646796</td><td>-1.950829263219747</td><td>-0.37921278354368304</td><td>1e+20</td><td>15.19329833984375</td><td>15.836138725280762</td><td>14.417946815490723</td></tr>\n",
       "<tr><td>270666609911975424</td><td>65.23957541093544</td><td>50.254835722375965</td><td>1.290065668803443</td><td>0.03867286437545981</td><td>-2.1670239462197185</td><td>-0.25365398108477394</td><td>-11.254096456379752</td><td>6.521875381469727</td><td>7.429482460021973</td><td>5.621600151062012</td></tr>\n",
       "<tr><td>270669289971600640</td><td>65.14678332250655</td><td>50.246296572047676</td><td>1.4799409254861424</td><td>0.04988128816237386</td><td>-1.863866581433561</td><td>0.025738539119512724</td><td>1e+20</td><td>15.885078430175781</td><td>16.594600677490234</td><td>15.059982299804688</td></tr>\n",
       "<tr><td>...</td><td>...</td><td>...</td><td>...</td><td>...</td><td>...</td><td>...</td><td>...</td><td>...</td><td>...</td><td>...</td></tr>\n",
       "<tr><td>270720932658216576</td><td>65.18050464635219</td><td>50.457559877004854</td><td>1.320769637426679</td><td>0.03073152385028177</td><td>1.3048301022927564</td><td>-8.596831362816355</td><td>1e+20</td><td>14.577142715454102</td><td>15.115577697753906</td><td>13.887171745300293</td></tr>\n",
       "<tr><td>270691177124767232</td><td>65.52564829953324</td><td>50.33791297978016</td><td>1.5462020297605403</td><td>0.03899728267481726</td><td>4.8718953299557</td><td>-12.55727207032474</td><td>1e+20</td><td>13.666499137878418</td><td>14.133360862731934</td><td>13.033180236816406</td></tr>\n",
       "<tr><td>270715469459988224</td><td>64.87286583551712</td><td>50.332650489148826</td><td>1.3125884001967643</td><td>0.12094956579301734</td><td>10.18443357317164</td><td>-7.690164769557699</td><td>1e+20</td><td>17.60172462463379</td><td>18.462989807128906</td><td>16.642274856567383</td></tr>\n",
       "<tr><td>270677879906078592</td><td>65.57433807949727</td><td>50.223904350164275</td><td>1.3214330514101449</td><td>0.07463168494235302</td><td>-0.2837838545518956</td><td>-2.029483318087027</td><td>1e+20</td><td>16.578941345214844</td><td>17.34298324584961</td><td>15.711420059204102</td></tr>\n",
       "<tr><td>270720142384196224</td><td>65.32313614058889</td><td>50.44692870925609</td><td>1.3547946929177224</td><td>0.029829332407401408</td><td>-2.0708933715485687</td><td>0.24630963594948552</td><td>1e+20</td><td>13.494712829589844</td><td>13.917344093322754</td><td>12.906527519226074</td></tr>\n",
       "<tr><td>270645306874388736</td><td>65.12616483098918</td><td>49.98167936859307</td><td>1.31847682604873</td><td>0.04092523278636751</td><td>-0.49096118210056666</td><td>0.6371386434846995</td><td>1e+20</td><td>15.29985523223877</td><td>15.966437339782715</td><td>14.515582084655762</td></tr>\n",
       "<tr><td>270650117233830400</td><td>65.53880197594219</td><td>50.106215090623664</td><td>1.2737751004096465</td><td>0.06298051649567335</td><td>0.6115476875820642</td><td>-0.8893420800169862</td><td>1e+20</td><td>16.452749252319336</td><td>17.176498413085938</td><td>15.589191436767578</td></tr>\n",
       "<tr><td>270679048137145344</td><td>65.57407189651931</td><td>50.28510475586669</td><td>1.3952193544802773</td><td>0.08307067094757639</td><td>-1.7561318307452982</td><td>-0.05366997503852413</td><td>1e+20</td><td>16.749738693237305</td><td>17.568117141723633</td><td>15.848628044128418</td></tr>\n",
       "<tr><td>270720932658209920</td><td>65.18212034124808</td><td>50.46709730408936</td><td>1.293082931074493</td><td>0.037434383013523226</td><td>10.228895226104576</td><td>-8.664879769968824</td><td>1e+20</td><td>15.20493221282959</td><td>15.80302619934082</td><td>14.466409683227539</td></tr>\n",
       "<tr><td>270674542710571904</td><td>65.5787769507672</td><td>50.158701313741204</td><td>1.6306628185911516</td><td>0.1369723624531159</td><td>10.858576236604991</td><td>-8.047691513196172</td><td>1e+20</td><td>17.760995864868164</td><td>18.963714599609375</td><td>16.632326126098633</td></tr>\n",
       "</table>"
      ],
      "text/plain": [
       "<QTable length=128>\n",
       "    source_id              ra        ...  phot_bp_mean_mag   phot_rp_mean_mag \n",
       "                          deg        ...        mag                mag        \n",
       "      int64             float64      ...      float32            float32      \n",
       "------------------ ----------------- ... ------------------ ------------------\n",
       "270665922717252352 65.20707347551121 ... 16.156274795532227 14.697970390319824\n",
       "270666330735648128  65.2498021210983 ... 18.293960571289062 16.378934860229492\n",
       "270665888357526656 65.18741004664521 ...  14.63163948059082 13.490936279296875\n",
       "270669083813185280 65.15116565358302 ... 11.972491264343262 11.364331245422363\n",
       "270669221252110208 65.17661566970504 ... 14.626587867736816 13.409073829650879\n",
       "270669393050811008 65.16047039705167 ... 13.019957542419434 12.051581382751465\n",
       "270669079518502272 65.14367379920316 ... 15.836138725280762 14.417946815490723\n",
       "270666609911975424 65.23957541093544 ...  7.429482460021973  5.621600151062012\n",
       "270669289971600640 65.14678332250655 ... 16.594600677490234 15.059982299804688\n",
       "               ...               ... ...                ...                ...\n",
       "270720932658216576 65.18050464635219 ... 15.115577697753906 13.887171745300293\n",
       "270691177124767232 65.52564829953324 ... 14.133360862731934 13.033180236816406\n",
       "270715469459988224 64.87286583551712 ... 18.462989807128906 16.642274856567383\n",
       "270677879906078592 65.57433807949727 ...  17.34298324584961 15.711420059204102\n",
       "270720142384196224 65.32313614058889 ... 13.917344093322754 12.906527519226074\n",
       "270645306874388736 65.12616483098918 ... 15.966437339782715 14.515582084655762\n",
       "270650117233830400 65.53880197594219 ... 17.176498413085938 15.589191436767578\n",
       "270679048137145344 65.57407189651931 ... 17.568117141723633 15.848628044128418\n",
       "270720932658209920 65.18212034124808 ...  15.80302619934082 14.466409683227539\n",
       "270674542710571904  65.5787769507672 ... 18.963714599609375 16.632326126098633"
      ]
     },
     "execution_count": 294,
     "metadata": {},
     "output_type": "execute_result"
    }
   ],
   "source": [
    "ngc1545_members"
   ]
  },
  {
   "cell_type": "code",
   "execution_count": 295,
   "metadata": {},
   "outputs": [],
   "source": [
    "Gmag = ngc1545_members['phot_g_mean_mag']\n",
    "Bmag = ngc1545_members['phot_bp_mean_mag']\n",
    "Rmag = ngc1545_members['phot_rp_mean_mag']\n",
    "BRgaiaColor = Bmag - Rmag"
   ]
  },
  {
   "cell_type": "code",
   "execution_count": 296,
   "metadata": {},
   "outputs": [
    {
     "data": {
      "text/plain": [
       "(22.0, 8.0)"
      ]
     },
     "execution_count": 296,
     "metadata": {},
     "output_type": "execute_result"
    },
    {
     "data": {
      "image/png": "[encoded data removed]",
      "text/plain": [
       "<Figure size 792x720 with 1 Axes>"
      ]
     },
     "metadata": {
      "needs_background": "light"
     },
     "output_type": "display_data"
    }
   ],
   "source": [
    "fig = plt.figure(figsize=(11,10))\n",
    "plt.grid(True)\n",
    "plt.scatter(BRgaiaColor, Bmag)\n",
    "plt.xlabel('B-R (Color)')\n",
    "plt.ylabel('Magnitud B')\n",
    "plt.xlim(-0.5, 2.5)\n",
    "plt.ylim(22, 8)"
   ]
  },
  {
   "cell_type": "markdown",
   "metadata": {},
   "source": [
    "SELECTION WITH A LARGER DISTANCE TO THE CLUSTER CENTER"
   ]
  },
  {
   "cell_type": "code",
   "execution_count": 299,
   "metadata": {},
   "outputs": [
    {
     "data": {
      "text/plain": [
       "207"
      ]
     },
     "execution_count": 299,
     "metadata": {},
     "output_type": "execute_result"
    }
   ],
   "source": [
    "ngc1545_3d_mask = sep3d < 200*u.pc\n",
    "ngc1545_3d_mask.sum()"
   ]
  },
  {
   "cell_type": "code",
   "execution_count": 300,
   "metadata": {},
   "outputs": [
    {
     "data": {
      "text/plain": [
       "207"
      ]
     },
     "execution_count": 300,
     "metadata": {},
     "output_type": "execute_result"
    }
   ],
   "source": [
    "ngc1545_members = ngc1545_table_3d[ngc1545_3d_mask]\n",
    "ngc1545_members_coords = ngc1545_coords_3d[ngc1545_3d_mask]\n",
    "len(ngc1545_members)"
   ]
  },
  {
   "cell_type": "code",
   "execution_count": 301,
   "metadata": {},
   "outputs": [],
   "source": [
    "name_csv = 'NGC1545-Gaia-less200pc.csv'\n",
    "ascii.write(ngc1545_members, name_csv, format='csv', overwrite=True )"
   ]
  },
  {
   "cell_type": "code",
   "execution_count": 302,
   "metadata": {},
   "outputs": [],
   "source": [
    "Gmag = ngc1545_members['phot_g_mean_mag']\n",
    "Bmag = ngc1545_members['phot_bp_mean_mag']\n",
    "Rmag = ngc1545_members['phot_rp_mean_mag']\n",
    "BRgaiaColor = Bmag - Rmag"
   ]
  },
  {
   "cell_type": "code",
   "execution_count": 303,
   "metadata": {},
   "outputs": [
    {
     "data": {
      "text/plain": [
       "(22.0, 8.0)"
      ]
     },
     "execution_count": 303,
     "metadata": {},
     "output_type": "execute_result"
    },
    {
     "data": {
      "image/png": "[encoded data removed]",
      "text/plain": [
       "<Figure size 792x720 with 1 Axes>"
      ]
     },
     "metadata": {
      "needs_background": "light"
     },
     "output_type": "display_data"
    }
   ],
   "source": [
    "fig = plt.figure(figsize=(11,10))\n",
    "plt.grid(True)\n",
    "plt.scatter(BRgaiaColor, Bmag)\n",
    "plt.xlabel('bp-rp')\n",
    "plt.ylabel('Magnitud B')\n",
    "plt.xlim(-0.5, 2.5)\n",
    "plt.ylim(22, 8)"
   ]
  },
  {
   "cell_type": "markdown",
   "metadata": {},
   "source": [
    "Extraction "
   ]
  },
  {
   "cell_type": "code",
   "execution_count": 307,
   "metadata": {},
   "outputs": [
    {
     "name": "stdout",
     "output_type": "stream",
     "text": [
      "NGC1545BmagVmagBVcolorLCO ['id', 'xcenter', 'ycenter', 'aperture_sum', 'annulus_median', 'aper_bkg', 'ra', 'dec', 'mag', 'Vmag', 'BVcolor', 'Bmag']\n",
      "\n",
      "\n"
     ]
    },
    {
     "data": {
      "text/html": [
       "<i>Table length=344</i>\n",
       "<table id=\"table1831585679728\" class=\"table-striped table-bordered table-condensed\">\n",
       "<thead><tr><th>id</th><th>xcenter</th><th>ycenter</th><th>aperture_sum</th><th>annulus_median</th><th>aper_bkg</th><th>ra</th><th>dec</th><th>mag</th><th>Vmag</th><th>BVcolor</th><th>Bmag</th></tr></thead>\n",
       "<thead><tr><th>int32</th><th>float64</th><th>float64</th><th>float64</th><th>float64</th><th>float64</th><th>float64</th><th>float64</th><th>float64</th><th>float64</th><th>float64</th><th>float64</th></tr></thead>\n",
       "<tr><td>1</td><td>920.8631477826809</td><td>1.0954601854175678</td><td>9684.348833683112</td><td>0.0</td><td>0.0</td><td>64.93505154531944</td><td>50.31705388841759</td><td>14.317614752878779</td><td>14.33375468202387</td><td>-0.016139929145090548</td><td>14.317614752878779</td></tr>\n",
       "<tr><td>2</td><td>988.3139784981691</td><td>4.951586183830707</td><td>6812.513511459643</td><td>0.0</td><td>0.0</td><td>64.93605933458032</td><td>50.306363903439006</td><td>14.588014133566151</td><td>14.703890608294667</td><td>-0.11587647472851614</td><td>14.588014133566151</td></tr>\n",
       "<tr><td>3</td><td>848.31729368555</td><td>15.559599782750793</td><td>5998.41651049537</td><td>6.881945848464966</td><td>2233.277161300666</td><td>64.93858842270612</td><td>50.328560253771805</td><td>15.04385053552601</td><td>15.335606627425985</td><td>-0.2917560918999751</td><td>15.04385053552601</td></tr>\n",
       "<tr><td>4</td><td>1819.18717095187</td><td>61.751130873801415</td><td>55535.10276450201</td><td>8.740543365478516</td><td>2836.415209491255</td><td>64.95073800573806</td><td>50.17468562909336</td><td>13.01533144477213</td><td>13.20110757048093</td><td>-0.18577612570880042</td><td>13.01533144477213</td></tr>\n",
       "<tr><td>5</td><td>1891.7831566438974</td><td>62.64943042232616</td><td>28323.313996471556</td><td>8.210785388946533</td><td>2664.5021465209</td><td>64.95101096077899</td><td>50.16317858811073</td><td>13.56858638669351</td><td>13.70497815338523</td><td>-0.1363917666917196</td><td>13.56858638669351</td></tr>\n",
       "<tr><td>6</td><td>79.51911045012962</td><td>82.84000784735639</td><td>3424.3400290878826</td><td>6.9233667850494385</td><td>2246.718771233476</td><td>64.95476613131495</td><td>50.45045484962182</td><td>15.937332056024344</td><td>16.139478963107372</td><td>-0.20214690708302818</td><td>15.937332056024344</td></tr>\n",
       "<tr><td>7</td><td>1079.9116100401088</td><td>88.65658924419998</td><td>8852.324126605032</td><td>3.7796008586883545</td><td>1226.5275639191277</td><td>64.9568961124337</td><td>50.29188270172552</td><td>14.501320542416185</td><td>15.055837550046864</td><td>-0.5545170076306789</td><td>14.501320542416185</td></tr>\n",
       "<tr><td>8</td><td>2208.391584814512</td><td>118.47450868018622</td><td>5884.51632501483</td><td>5.133046627044678</td><td>1665.737576622644</td><td>64.96503050809672</td><td>50.11301599514285</td><td>14.956399613155053</td><td>15.500811838399812</td><td>-0.5444122252447592</td><td>14.956399613155053</td></tr>\n",
       "<tr><td>9</td><td>1320.0236147081998</td><td>129.37487467205926</td><td>5664.496048438068</td><td>5.423170804977417</td><td>1759.8864866526233</td><td>64.96715376528965</td><td>50.25383893155994</td><td>15.01588971716452</td><td>15.771703207799664</td><td>-0.7558134906351448</td><td>15.01588971716452</td></tr>\n",
       "<tr><td>10</td><td>1860.2380045550628</td><td>151.83886477623673</td><td>36826.41678866414</td><td>5.808121919631958</td><td>1884.8079189778978</td><td>64.97306063372666</td><td>50.168216630050566</td><td>13.331210423951052</td><td>13.451788778054421</td><td>-0.12057835410336892</td><td>13.331210423951052</td></tr>\n",
       "<tr><td>...</td><td>...</td><td>...</td><td>...</td><td>...</td><td>...</td><td>...</td><td>...</td><td>...</td><td>...</td><td>...</td><td>...</td></tr>\n",
       "<tr><td>335</td><td>2326.20922779599</td><td>2033.1592627183509</td><td>2336.4137756792798</td><td>0.5863838195800781</td><td>190.28885446934152</td><td>65.43820498228426</td><td>50.094175196150395</td><td>15.47596769621269</td><td>17.34994381054217</td><td>-1.8739761143294817</td><td>15.47596769621269</td></tr>\n",
       "<tr><td>336</td><td>482.8817187417206</td><td>2035.0471318875482</td><td>662430.5687879454</td><td>31.725622177124023</td><td>10295.359625944853</td><td>65.44037785646002</td><td>50.386364912169306</td><td>11.081476615578556</td><td>11.058455689307399</td><td>0.023020926271156483</td><td>11.081476615578556</td></tr>\n",
       "<tr><td>337</td><td>2699.4630677095715</td><td>2036.8077694729427</td><td>5784753.191052038</td><td>292.9450988769531</td><td>95064.33401866884</td><td>65.43876294308043</td><td>50.035007880880514</td><td>9.416293471643149</td><td>10.013587545946017</td><td>-0.5972940743028676</td><td>9.416293471643149</td></tr>\n",
       "<tr><td>338</td><td>898.0891327785127</td><td>2036.214137278064</td><td>11941.683393527273</td><td>0.0</td><td>0.0</td><td>65.44028138294495</td><td>50.32054878032554</td><td>14.156548142529665</td><td>14.16266785430346</td><td>-0.006119711773795444</td><td>14.156548142529665</td></tr>\n",
       "<tr><td>339</td><td>10.175765709884999</td><td>2040.0730385847892</td><td>3103.5537861339517</td><td>0.0</td><td>0.0</td><td>65.44207026899105</td><td>50.46129102194222</td><td>15.19239690907811</td><td>15.715475689273175</td><td>-0.5230787801950658</td><td>15.19239690907811</td></tr>\n",
       "<tr><td>340</td><td>695.1881936504021</td><td>2040.420580231615</td><td>5696.39120270388</td><td>0.0</td><td>0.0</td><td>65.44151516731942</td><td>50.35270858859824</td><td>14.725561000971604</td><td>14.357164780199401</td><td>0.3683962207722029</td><td>14.725561000971604</td></tr>\n",
       "<tr><td>341</td><td>859.2614371443236</td><td>2040.3779322478276</td><td>2550.334735210193</td><td>0.0</td><td>0.0</td><td>65.44135132840164</td><td>50.326700977064114</td><td>15.343315712755057</td><td>17.171069727368316</td><td>-1.8277540146132587</td><td>15.343315712755057</td></tr>\n",
       "<tr><td>342</td><td>1267.2002786869916</td><td>2039.420131586623</td><td>3224.6646612249706</td><td>0.0</td><td>0.0</td><td>65.44073354753584</td><td>50.26203803196118</td><td>15.16296920390492</td><td>18.015340330318203</td><td>-2.852371126413283</td><td>15.16296920390492</td></tr>\n",
       "<tr><td>343</td><td>2698.1875780677424</td><td>2039.4473499328715</td><td>5703989.107058601</td><td>317.7327575683594</td><td>103108.23806217148</td><td>65.43941551403542</td><td>50.03520850399657</td><td>9.428386827028778</td><td>10.013587545946017</td><td>-0.585200718917239</td><td>9.428386827028778</td></tr>\n",
       "<tr><td>344</td><td>2699.9894412698404</td><td>2039.3511571819126</td><td>5708338.320783658</td><td>295.23646545410156</td><td>95807.91101819648</td><td>65.43939011540735</td><td>50.034922944938394</td><td>9.426789577033558</td><td>10.013587545946017</td><td>-0.5867979689124585</td><td>9.426789577033558</td></tr>\n",
       "</table>"
      ],
      "text/plain": [
       "<Table length=344>\n",
       "  id       xcenter       ...        BVcolor               Bmag       \n",
       "int32      float64       ...        float64             float64      \n",
       "----- ------------------ ... --------------------- ------------------\n",
       "    1  920.8631477826809 ... -0.016139929145090548 14.317614752878779\n",
       "    2  988.3139784981691 ...  -0.11587647472851614 14.588014133566151\n",
       "    3    848.31729368555 ...   -0.2917560918999751  15.04385053552601\n",
       "    4   1819.18717095187 ...  -0.18577612570880042  13.01533144477213\n",
       "    5 1891.7831566438974 ...   -0.1363917666917196  13.56858638669351\n",
       "    6  79.51911045012962 ...  -0.20214690708302818 15.937332056024344\n",
       "    7 1079.9116100401088 ...   -0.5545170076306789 14.501320542416185\n",
       "    8  2208.391584814512 ...   -0.5444122252447592 14.956399613155053\n",
       "    9 1320.0236147081998 ...   -0.7558134906351448  15.01588971716452\n",
       "   10 1860.2380045550628 ...  -0.12057835410336892 13.331210423951052\n",
       "  ...                ... ...                   ...                ...\n",
       "  335   2326.20922779599 ...   -1.8739761143294817  15.47596769621269\n",
       "  336  482.8817187417206 ...  0.023020926271156483 11.081476615578556\n",
       "  337 2699.4630677095715 ...   -0.5972940743028676  9.416293471643149\n",
       "  338  898.0891327785127 ... -0.006119711773795444 14.156548142529665\n",
       "  339 10.175765709884999 ...   -0.5230787801950658  15.19239690907811\n",
       "  340  695.1881936504021 ...    0.3683962207722029 14.725561000971604\n",
       "  341  859.2614371443236 ...   -1.8277540146132587 15.343315712755057\n",
       "  342 1267.2002786869916 ...    -2.852371126413283  15.16296920390492\n",
       "  343 2698.1875780677424 ...    -0.585200718917239  9.428386827028778\n",
       "  344 2699.9894412698404 ...   -0.5867979689124585  9.426789577033558"
      ]
     },
     "execution_count": 307,
     "metadata": {},
     "output_type": "execute_result"
    }
   ],
   "source": [
    "from astropy.io import ascii\n",
    "NGC1545BmagVmagBVcolorLCO = ascii.read('Test-photBandVandColor.csv', format='csv')\n",
    "print('NGC1545BmagVmagBVcolorLCO', NGC1545BmagVmagBVcolorLCO.colnames)\n",
    "print('\\n')\n",
    "NGC1545BmagVmagBVcolorLCO"
   ]
  },
  {
   "cell_type": "code",
   "execution_count": 308,
   "metadata": {},
   "outputs": [
    {
     "name": "stderr",
     "output_type": "stream",
     "text": [
      "WARNING: OverflowError converting to IntType in column source_id, reverting to String. [astropy.io.ascii.fastbasic]\n"
     ]
    }
   ],
   "source": [
    "from astropy.io import ascii\n",
    "#name_csv = 'NGC1545-Gaia-less200pc.csv'\n",
    "NGC1545Gaialess200pc = ascii.read('NGC1545-Gaia-less200pc.csv', format='csv')"
   ]
  },
  {
   "cell_type": "code",
   "execution_count": 309,
   "metadata": {},
   "outputs": [
    {
     "name": "stdout",
     "output_type": "stream",
     "text": [
      "NGC1545Gaialess200pc ['source_id', 'ra', 'dec', 'parallax', 'parallax_error', 'pmra', 'pmdec', 'radial_velocity', 'phot_g_mean_mag', 'phot_bp_mean_mag', 'phot_rp_mean_mag']\n",
      "\n",
      "\n"
     ]
    },
    {
     "data": {
      "text/html": [
       "<i>Table length=207</i>\n",
       "<table id=\"table1831585110864\" class=\"table-striped table-bordered table-condensed\">\n",
       "<thead><tr><th>source_id</th><th>ra</th><th>dec</th><th>parallax</th><th>parallax_error</th><th>pmra</th><th>pmdec</th><th>radial_velocity</th><th>phot_g_mean_mag</th><th>phot_bp_mean_mag</th><th>phot_rp_mean_mag</th></tr></thead>\n",
       "<thead><tr><th>str18</th><th>float64</th><th>float64</th><th>float64</th><th>float64</th><th>float64</th><th>float64</th><th>float64</th><th>float64</th><th>float64</th><th>float64</th></tr></thead>\n",
       "<tr><td>270665922717252352</td><td>65.20707347551121</td><td>50.20146785336598</td><td>1.6094455374920176</td><td>0.041619677617130674</td><td>-0.05500305966896901</td><td>-5.7547133914275435</td><td>1e+20</td><td>15.48967456817627</td><td>16.156274795532227</td><td>14.697970390319824</td></tr>\n",
       "<tr><td>270666330735648128</td><td>65.2498021210983</td><td>50.21688286997158</td><td>1.4079427818635657</td><td>0.11069894230209422</td><td>-1.7131718526377053</td><td>-0.020136059096353052</td><td>1e+20</td><td>17.3516902923584</td><td>18.293960571289062</td><td>16.378934860229492</td></tr>\n",
       "<tr><td>270665888357526656</td><td>65.18741004664521</td><td>50.19067712527494</td><td>1.6057565651306385</td><td>0.05079113725852206</td><td>10.015168532046845</td><td>-24.45730030001488</td><td>1e+20</td><td>14.141936302185059</td><td>14.63163948059082</td><td>13.490936279296875</td></tr>\n",
       "<tr><td>270669083813185280</td><td>65.15116565358302</td><td>50.22112270128298</td><td>1.6312320463445653</td><td>0.0384569637296716</td><td>-1.3975409980021878</td><td>-0.4737620491766795</td><td>1e+20</td><td>11.739593505859375</td><td>11.972491264343262</td><td>11.364331245422363</td></tr>\n",
       "<tr><td>270666335034080640</td><td>65.25164203290909</td><td>50.22864180006365</td><td>1.1345127745926342</td><td>0.043592779831134645</td><td>-4.966683804062836</td><td>-2.865343190554864</td><td>1e+20</td><td>15.537220001220703</td><td>16.081212997436523</td><td>14.783945083618164</td></tr>\n",
       "<tr><td>270669221252112768</td><td>65.17497362030497</td><td>50.24879761763765</td><td>1.2220631943382483</td><td>0.0566714275640275</td><td>-1.9196664986584167</td><td>0.2181916713808904</td><td>1e+20</td><td>9.18391227722168</td><td>9.315716743469238</td><td>8.960620880126953</td></tr>\n",
       "<tr><td>270665819638046720</td><td>65.20515393207033</td><td>50.18692972021106</td><td>1.1739702424122176</td><td>0.06429098770902096</td><td>-0.6661403812342058</td><td>-0.19241519649143957</td><td>1e+20</td><td>16.394824981689453</td><td>17.1131591796875</td><td>15.560911178588867</td></tr>\n",
       "<tr><td>270669221252110208</td><td>65.17661566970504</td><td>50.25249540970388</td><td>1.371635895949395</td><td>0.02739235261554408</td><td>-1.3506563897339694</td><td>0.5522886770209812</td><td>1e+20</td><td>14.09617805480957</td><td>14.626587867736816</td><td>13.409073829650879</td></tr>\n",
       "<tr><td>270669393050811008</td><td>65.16047039705167</td><td>50.24670737650233</td><td>1.2522559183125914</td><td>0.04156656334612353</td><td>-3.74591869148761</td><td>-2.3600553620894376</td><td>1e+20</td><td>12.619795799255371</td><td>13.019957542419434</td><td>12.051581382751465</td></tr>\n",
       "<tr><td>270669079518502272</td><td>65.14367379920316</td><td>50.22546255756988</td><td>1.3244953630573817</td><td>0.037002355744646796</td><td>-1.950829263219747</td><td>-0.37921278354368304</td><td>1e+20</td><td>15.19329833984375</td><td>15.836138725280762</td><td>14.417946815490723</td></tr>\n",
       "<tr><td>...</td><td>...</td><td>...</td><td>...</td><td>...</td><td>...</td><td>...</td><td>...</td><td>...</td><td>...</td><td>...</td></tr>\n",
       "<tr><td>270649533118300288</td><td>65.43949226108924</td><td>50.03515507727521</td><td>1.1960878062021039</td><td>0.043514651528399284</td><td>2.975754201902359</td><td>-5.2015592418492425</td><td>1.3394536310854122</td><td>6.799007892608643</td><td>7.584871292114258</td><td>5.983513832092285</td></tr>\n",
       "<tr><td>270720795219244544</td><td>65.23448674619792</td><td>50.46126753068342</td><td>1.67512515539845</td><td>0.11148458973948955</td><td>1.2223335668575475</td><td>-3.839423423158557</td><td>1e+20</td><td>17.316343307495117</td><td>18.343233108520508</td><td>16.283763885498047</td></tr>\n",
       "<tr><td>270657745099686912</td><td>64.93854161105686</td><td>50.045815461519354</td><td>1.826409945820422</td><td>0.13924575192258254</td><td>-6.82301489525551</td><td>-7.0454024687616155</td><td>1e+20</td><td>17.67363929748535</td><td>18.81647300720215</td><td>16.57794761657715</td></tr>\n",
       "<tr><td>270645306874388736</td><td>65.12616483098918</td><td>49.98167936859307</td><td>1.31847682604873</td><td>0.04092523278636751</td><td>-0.49096118210056666</td><td>0.6371386434846995</td><td>1e+20</td><td>15.29985523223877</td><td>15.966437339782715</td><td>14.515582084655762</td></tr>\n",
       "<tr><td>270650117233830400</td><td>65.53880197594219</td><td>50.106215090623664</td><td>1.2737751004096465</td><td>0.06298051649567335</td><td>0.6115476875820642</td><td>-0.8893420800169862</td><td>1e+20</td><td>16.452749252319336</td><td>17.176498413085938</td><td>15.589191436767578</td></tr>\n",
       "<tr><td>270679048137145344</td><td>65.57407189651931</td><td>50.28510475586669</td><td>1.3952193544802773</td><td>0.08307067094757639</td><td>-1.7561318307452982</td><td>-0.05366997503852413</td><td>1e+20</td><td>16.749738693237305</td><td>17.568117141723633</td><td>15.848628044128418</td></tr>\n",
       "<tr><td>270720932658209920</td><td>65.18212034124808</td><td>50.46709730408936</td><td>1.293082931074493</td><td>0.037434383013523226</td><td>10.228895226104576</td><td>-8.664879769968824</td><td>1e+20</td><td>15.20493221282959</td><td>15.80302619934082</td><td>14.466409683227539</td></tr>\n",
       "<tr><td>270649498758560384</td><td>65.45978011833452</td><td>50.03596324790711</td><td>1.7289401990687783</td><td>0.0883556330504606</td><td>-2.8901569437504526</td><td>-0.8329775834309461</td><td>1e+20</td><td>11.733247756958008</td><td>11.943426132202148</td><td>11.29727840423584</td></tr>\n",
       "<tr><td>270674542710571904</td><td>65.5787769507672</td><td>50.158701313741204</td><td>1.6306628185911516</td><td>0.1369723624531159</td><td>10.858576236604991</td><td>-8.047691513196172</td><td>1e+20</td><td>17.760995864868164</td><td>18.963714599609375</td><td>16.632326126098633</td></tr>\n",
       "<tr><td>270661455951422976</td><td>64.87004196724631</td><td>50.09088454999619</td><td>1.1530267947212907</td><td>0.042206411273070066</td><td>-2.756639151445877</td><td>-2.4231629756043915</td><td>1e+20</td><td>12.561063766479492</td><td>12.842951774597168</td><td>12.11789321899414</td></tr>\n",
       "</table>"
      ],
      "text/plain": [
       "<Table length=207>\n",
       "    source_id              ra        ...  phot_bp_mean_mag   phot_rp_mean_mag \n",
       "      str18             float64      ...      float64            float64      \n",
       "------------------ ----------------- ... ------------------ ------------------\n",
       "270665922717252352 65.20707347551121 ... 16.156274795532227 14.697970390319824\n",
       "270666330735648128  65.2498021210983 ... 18.293960571289062 16.378934860229492\n",
       "270665888357526656 65.18741004664521 ...  14.63163948059082 13.490936279296875\n",
       "270669083813185280 65.15116565358302 ... 11.972491264343262 11.364331245422363\n",
       "270666335034080640 65.25164203290909 ... 16.081212997436523 14.783945083618164\n",
       "270669221252112768 65.17497362030497 ...  9.315716743469238  8.960620880126953\n",
       "270665819638046720 65.20515393207033 ...   17.1131591796875 15.560911178588867\n",
       "270669221252110208 65.17661566970504 ... 14.626587867736816 13.409073829650879\n",
       "270669393050811008 65.16047039705167 ... 13.019957542419434 12.051581382751465\n",
       "270669079518502272 65.14367379920316 ... 15.836138725280762 14.417946815490723\n",
       "               ...               ... ...                ...                ...\n",
       "270649533118300288 65.43949226108924 ...  7.584871292114258  5.983513832092285\n",
       "270720795219244544 65.23448674619792 ... 18.343233108520508 16.283763885498047\n",
       "270657745099686912 64.93854161105686 ...  18.81647300720215  16.57794761657715\n",
       "270645306874388736 65.12616483098918 ... 15.966437339782715 14.515582084655762\n",
       "270650117233830400 65.53880197594219 ... 17.176498413085938 15.589191436767578\n",
       "270679048137145344 65.57407189651931 ... 17.568117141723633 15.848628044128418\n",
       "270720932658209920 65.18212034124808 ...  15.80302619934082 14.466409683227539\n",
       "270649498758560384 65.45978011833452 ... 11.943426132202148  11.29727840423584\n",
       "270674542710571904  65.5787769507672 ... 18.963714599609375 16.632326126098633\n",
       "270661455951422976 64.87004196724631 ... 12.842951774597168  12.11789321899414"
      ]
     },
     "execution_count": 309,
     "metadata": {},
     "output_type": "execute_result"
    }
   ],
   "source": [
    "print('NGC1545Gaialess200pc', NGC1545Gaialess200pc.colnames)\n",
    "print('\\n')\n",
    "NGC1545Gaialess200pc"
   ]
  },
  {
   "cell_type": "code",
   "execution_count": 310,
   "metadata": {},
   "outputs": [],
   "source": [
    "from astropy.io import ascii\n",
    "#name_csv = 'NGC2437-Gaia-less100pc.csv'\n",
    "NGC1545Gaialess100pc = ascii.read('NGC1545-Gaia-less100pc.csv', format='csv')"
   ]
  },
  {
   "cell_type": "code",
   "execution_count": 311,
   "metadata": {},
   "outputs": [
    {
     "name": "stdout",
     "output_type": "stream",
     "text": [
      "NGC1545Gaialess100pc ['source_id', 'ra', 'dec', 'parallax', 'parallax_error', 'pmra', 'pmdec', 'radial_velocity', 'phot_g_mean_mag', 'phot_bp_mean_mag', 'phot_rp_mean_mag']\n",
      "\n",
      "\n"
     ]
    },
    {
     "data": {
      "text/html": [
       "<i>Table length=128</i>\n",
       "<table id=\"table1831585678672\" class=\"table-striped table-bordered table-condensed\">\n",
       "<thead><tr><th>source_id</th><th>ra</th><th>dec</th><th>parallax</th><th>parallax_error</th><th>pmra</th><th>pmdec</th><th>radial_velocity</th><th>phot_g_mean_mag</th><th>phot_bp_mean_mag</th><th>phot_rp_mean_mag</th></tr></thead>\n",
       "<thead><tr><th>str18</th><th>float64</th><th>float64</th><th>float64</th><th>float64</th><th>float64</th><th>float64</th><th>float64</th><th>float64</th><th>float64</th><th>float64</th></tr></thead>\n",
       "<tr><td>270665922717252352</td><td>65.20707347551121</td><td>50.20146785336598</td><td>1.6094455374920176</td><td>0.041619677617130674</td><td>-0.05500305966896901</td><td>-5.7547133914275435</td><td>1e+20</td><td>15.48967456817627</td><td>16.156274795532227</td><td>14.697970390319824</td></tr>\n",
       "<tr><td>270666330735648128</td><td>65.2498021210983</td><td>50.21688286997158</td><td>1.4079427818635657</td><td>0.11069894230209422</td><td>-1.7131718526377053</td><td>-0.020136059096353052</td><td>1e+20</td><td>17.3516902923584</td><td>18.293960571289062</td><td>16.378934860229492</td></tr>\n",
       "<tr><td>270665888357526656</td><td>65.18741004664521</td><td>50.19067712527494</td><td>1.6057565651306385</td><td>0.05079113725852206</td><td>10.015168532046845</td><td>-24.45730030001488</td><td>1e+20</td><td>14.141936302185059</td><td>14.63163948059082</td><td>13.490936279296875</td></tr>\n",
       "<tr><td>270669083813185280</td><td>65.15116565358302</td><td>50.22112270128298</td><td>1.6312320463445653</td><td>0.0384569637296716</td><td>-1.3975409980021878</td><td>-0.4737620491766795</td><td>1e+20</td><td>11.739593505859375</td><td>11.972491264343262</td><td>11.364331245422363</td></tr>\n",
       "<tr><td>270669221252110208</td><td>65.17661566970504</td><td>50.25249540970388</td><td>1.371635895949395</td><td>0.02739235261554408</td><td>-1.3506563897339694</td><td>0.5522886770209812</td><td>1e+20</td><td>14.09617805480957</td><td>14.626587867736816</td><td>13.409073829650879</td></tr>\n",
       "<tr><td>270669393050811008</td><td>65.16047039705167</td><td>50.24670737650233</td><td>1.2522559183125914</td><td>0.04156656334612353</td><td>-3.74591869148761</td><td>-2.3600553620894376</td><td>1e+20</td><td>12.619795799255371</td><td>13.019957542419434</td><td>12.051581382751465</td></tr>\n",
       "<tr><td>270669079518502272</td><td>65.14367379920316</td><td>50.22546255756988</td><td>1.3244953630573817</td><td>0.037002355744646796</td><td>-1.950829263219747</td><td>-0.37921278354368304</td><td>1e+20</td><td>15.19329833984375</td><td>15.836138725280762</td><td>14.417946815490723</td></tr>\n",
       "<tr><td>270666609911975424</td><td>65.23957541093544</td><td>50.254835722375965</td><td>1.290065668803443</td><td>0.03867286437545981</td><td>-2.1670239462197185</td><td>-0.25365398108477394</td><td>-11.254096456379752</td><td>6.521875381469727</td><td>7.429482460021973</td><td>5.621600151062012</td></tr>\n",
       "<tr><td>270669289971600640</td><td>65.14678332250655</td><td>50.246296572047676</td><td>1.4799409254861424</td><td>0.04988128816237386</td><td>-1.863866581433561</td><td>0.025738539119512724</td><td>1e+20</td><td>15.885078430175781</td><td>16.594600677490234</td><td>15.059982299804688</td></tr>\n",
       "<tr><td>270665510400379392</td><td>65.25994626157137</td><td>50.19751633800518</td><td>1.4117603077979246</td><td>0.037447134109191475</td><td>-2.471377188416186</td><td>0.3176318893635585</td><td>1e+20</td><td>11.95329761505127</td><td>12.184432983398438</td><td>11.578051567077637</td></tr>\n",
       "<tr><td>...</td><td>...</td><td>...</td><td>...</td><td>...</td><td>...</td><td>...</td><td>...</td><td>...</td><td>...</td><td>...</td></tr>\n",
       "<tr><td>270720932658216576</td><td>65.18050464635219</td><td>50.457559877004854</td><td>1.320769637426679</td><td>0.03073152385028177</td><td>1.3048301022927564</td><td>-8.596831362816355</td><td>1e+20</td><td>14.577142715454102</td><td>15.115577697753906</td><td>13.887171745300293</td></tr>\n",
       "<tr><td>270691177124767232</td><td>65.52564829953324</td><td>50.33791297978016</td><td>1.5462020297605403</td><td>0.03899728267481726</td><td>4.8718953299557</td><td>-12.55727207032474</td><td>1e+20</td><td>13.666499137878418</td><td>14.133360862731934</td><td>13.033180236816406</td></tr>\n",
       "<tr><td>270715469459988224</td><td>64.87286583551712</td><td>50.332650489148826</td><td>1.3125884001967643</td><td>0.12094956579301734</td><td>10.18443357317164</td><td>-7.690164769557699</td><td>1e+20</td><td>17.60172462463379</td><td>18.462989807128906</td><td>16.642274856567383</td></tr>\n",
       "<tr><td>270677879906078592</td><td>65.57433807949727</td><td>50.223904350164275</td><td>1.3214330514101449</td><td>0.07463168494235302</td><td>-0.2837838545518956</td><td>-2.029483318087027</td><td>1e+20</td><td>16.578941345214844</td><td>17.34298324584961</td><td>15.711420059204102</td></tr>\n",
       "<tr><td>270720142384196224</td><td>65.32313614058889</td><td>50.44692870925609</td><td>1.3547946929177224</td><td>0.029829332407401408</td><td>-2.0708933715485687</td><td>0.24630963594948552</td><td>1e+20</td><td>13.494712829589844</td><td>13.917344093322754</td><td>12.906527519226074</td></tr>\n",
       "<tr><td>270645306874388736</td><td>65.12616483098918</td><td>49.98167936859307</td><td>1.31847682604873</td><td>0.04092523278636751</td><td>-0.49096118210056666</td><td>0.6371386434846995</td><td>1e+20</td><td>15.29985523223877</td><td>15.966437339782715</td><td>14.515582084655762</td></tr>\n",
       "<tr><td>270650117233830400</td><td>65.53880197594219</td><td>50.106215090623664</td><td>1.2737751004096465</td><td>0.06298051649567335</td><td>0.6115476875820642</td><td>-0.8893420800169862</td><td>1e+20</td><td>16.452749252319336</td><td>17.176498413085938</td><td>15.589191436767578</td></tr>\n",
       "<tr><td>270679048137145344</td><td>65.57407189651931</td><td>50.28510475586669</td><td>1.3952193544802773</td><td>0.08307067094757639</td><td>-1.7561318307452982</td><td>-0.05366997503852413</td><td>1e+20</td><td>16.749738693237305</td><td>17.568117141723633</td><td>15.848628044128418</td></tr>\n",
       "<tr><td>270720932658209920</td><td>65.18212034124808</td><td>50.46709730408936</td><td>1.293082931074493</td><td>0.037434383013523226</td><td>10.228895226104576</td><td>-8.664879769968824</td><td>1e+20</td><td>15.20493221282959</td><td>15.80302619934082</td><td>14.466409683227539</td></tr>\n",
       "<tr><td>270674542710571904</td><td>65.5787769507672</td><td>50.158701313741204</td><td>1.6306628185911516</td><td>0.1369723624531159</td><td>10.858576236604991</td><td>-8.047691513196172</td><td>1e+20</td><td>17.760995864868164</td><td>18.963714599609375</td><td>16.632326126098633</td></tr>\n",
       "</table>"
      ],
      "text/plain": [
       "<Table length=128>\n",
       "    source_id              ra        ...  phot_bp_mean_mag   phot_rp_mean_mag \n",
       "      str18             float64      ...      float64            float64      \n",
       "------------------ ----------------- ... ------------------ ------------------\n",
       "270665922717252352 65.20707347551121 ... 16.156274795532227 14.697970390319824\n",
       "270666330735648128  65.2498021210983 ... 18.293960571289062 16.378934860229492\n",
       "270665888357526656 65.18741004664521 ...  14.63163948059082 13.490936279296875\n",
       "270669083813185280 65.15116565358302 ... 11.972491264343262 11.364331245422363\n",
       "270669221252110208 65.17661566970504 ... 14.626587867736816 13.409073829650879\n",
       "270669393050811008 65.16047039705167 ... 13.019957542419434 12.051581382751465\n",
       "270669079518502272 65.14367379920316 ... 15.836138725280762 14.417946815490723\n",
       "270666609911975424 65.23957541093544 ...  7.429482460021973  5.621600151062012\n",
       "270669289971600640 65.14678332250655 ... 16.594600677490234 15.059982299804688\n",
       "270665510400379392 65.25994626157137 ... 12.184432983398438 11.578051567077637\n",
       "               ...               ... ...                ...                ...\n",
       "270720932658216576 65.18050464635219 ... 15.115577697753906 13.887171745300293\n",
       "270691177124767232 65.52564829953324 ... 14.133360862731934 13.033180236816406\n",
       "270715469459988224 64.87286583551712 ... 18.462989807128906 16.642274856567383\n",
       "270677879906078592 65.57433807949727 ...  17.34298324584961 15.711420059204102\n",
       "270720142384196224 65.32313614058889 ... 13.917344093322754 12.906527519226074\n",
       "270645306874388736 65.12616483098918 ... 15.966437339782715 14.515582084655762\n",
       "270650117233830400 65.53880197594219 ... 17.176498413085938 15.589191436767578\n",
       "270679048137145344 65.57407189651931 ... 17.568117141723633 15.848628044128418\n",
       "270720932658209920 65.18212034124808 ...  15.80302619934082 14.466409683227539\n",
       "270674542710571904  65.5787769507672 ... 18.963714599609375 16.632326126098633"
      ]
     },
     "execution_count": 311,
     "metadata": {},
     "output_type": "execute_result"
    }
   ],
   "source": [
    "print('NGC1545Gaialess100pc', NGC1545Gaialess100pc.colnames)\n",
    "print('\\n')\n",
    "NGC1545Gaialess100pc"
   ]
  },
  {
   "cell_type": "markdown",
   "metadata": {},
   "source": [
    "Comparison of NGC2437Gaialess50pc and NGC2437BmagVmagBVcolorLCO"
   ]
  },
  {
   "cell_type": "code",
   "execution_count": 313,
   "metadata": {},
   "outputs": [],
   "source": [
    "coo_NGC1545Gaialess100pc = SkyCoord(NGC1545Gaialess100pc['ra']*u.deg, NGC1545Gaialess100pc['dec']*u.deg)\n",
    "coo_NGC1545BmagVmagBVcolorLCO = SkyCoord(NGC1545BmagVmagBVcolorLCO['ra']*u.deg, NGC1545BmagVmagBVcolorLCO['dec']*u.deg)"
   ]
  },
  {
   "cell_type": "code",
   "execution_count": 314,
   "metadata": {},
   "outputs": [],
   "source": [
    "# idx_sdss, d2d_sdss, d3d_sdss = coo_twomass.match_to_catalog_sky(coo_sdss)\n",
    "# idx_dataVfiltr, d2d_dataVfiltr, d3d_dataVfiltr = coo_dataBfiltr.match_to_catalog_sky(coo_dataVfiltr)\n",
    "\n",
    "idx_NGC1545BmagVmagBVcolorLCO, d2d_NGC1545BmagVmagBVcolorLCO, d3d_NGC1545BmagVmagBVcolorLCO = coo_NGC1545Gaialess100pc.match_to_catalog_sky(coo_NGC1545BmagVmagBVcolorLCO)"
   ]
  },
  {
   "cell_type": "code",
   "execution_count": 315,
   "metadata": {},
   "outputs": [
    {
     "data": {
      "text/html": [
       "<i>Table length=344</i>\n",
       "<table id=\"table1831585679728\" class=\"table-striped table-bordered table-condensed\">\n",
       "<thead><tr><th>id</th><th>xcenter</th><th>ycenter</th><th>aperture_sum</th><th>annulus_median</th><th>aper_bkg</th><th>ra</th><th>dec</th><th>mag</th><th>Vmag</th><th>BVcolor</th><th>Bmag</th></tr></thead>\n",
       "<thead><tr><th>int32</th><th>float64</th><th>float64</th><th>float64</th><th>float64</th><th>float64</th><th>float64</th><th>float64</th><th>float64</th><th>float64</th><th>float64</th><th>float64</th></tr></thead>\n",
       "<tr><td>1</td><td>920.8631477826809</td><td>1.0954601854175678</td><td>9684.348833683112</td><td>0.0</td><td>0.0</td><td>64.93505154531944</td><td>50.31705388841759</td><td>14.317614752878779</td><td>14.33375468202387</td><td>-0.016139929145090548</td><td>14.317614752878779</td></tr>\n",
       "<tr><td>2</td><td>988.3139784981691</td><td>4.951586183830707</td><td>6812.513511459643</td><td>0.0</td><td>0.0</td><td>64.93605933458032</td><td>50.306363903439006</td><td>14.588014133566151</td><td>14.703890608294667</td><td>-0.11587647472851614</td><td>14.588014133566151</td></tr>\n",
       "<tr><td>3</td><td>848.31729368555</td><td>15.559599782750793</td><td>5998.41651049537</td><td>6.881945848464966</td><td>2233.277161300666</td><td>64.93858842270612</td><td>50.328560253771805</td><td>15.04385053552601</td><td>15.335606627425985</td><td>-0.2917560918999751</td><td>15.04385053552601</td></tr>\n",
       "<tr><td>4</td><td>1819.18717095187</td><td>61.751130873801415</td><td>55535.10276450201</td><td>8.740543365478516</td><td>2836.415209491255</td><td>64.95073800573806</td><td>50.17468562909336</td><td>13.01533144477213</td><td>13.20110757048093</td><td>-0.18577612570880042</td><td>13.01533144477213</td></tr>\n",
       "<tr><td>5</td><td>1891.7831566438974</td><td>62.64943042232616</td><td>28323.313996471556</td><td>8.210785388946533</td><td>2664.5021465209</td><td>64.95101096077899</td><td>50.16317858811073</td><td>13.56858638669351</td><td>13.70497815338523</td><td>-0.1363917666917196</td><td>13.56858638669351</td></tr>\n",
       "<tr><td>6</td><td>79.51911045012962</td><td>82.84000784735639</td><td>3424.3400290878826</td><td>6.9233667850494385</td><td>2246.718771233476</td><td>64.95476613131495</td><td>50.45045484962182</td><td>15.937332056024344</td><td>16.139478963107372</td><td>-0.20214690708302818</td><td>15.937332056024344</td></tr>\n",
       "<tr><td>7</td><td>1079.9116100401088</td><td>88.65658924419998</td><td>8852.324126605032</td><td>3.7796008586883545</td><td>1226.5275639191277</td><td>64.9568961124337</td><td>50.29188270172552</td><td>14.501320542416185</td><td>15.055837550046864</td><td>-0.5545170076306789</td><td>14.501320542416185</td></tr>\n",
       "<tr><td>8</td><td>2208.391584814512</td><td>118.47450868018622</td><td>5884.51632501483</td><td>5.133046627044678</td><td>1665.737576622644</td><td>64.96503050809672</td><td>50.11301599514285</td><td>14.956399613155053</td><td>15.500811838399812</td><td>-0.5444122252447592</td><td>14.956399613155053</td></tr>\n",
       "<tr><td>9</td><td>1320.0236147081998</td><td>129.37487467205926</td><td>5664.496048438068</td><td>5.423170804977417</td><td>1759.8864866526233</td><td>64.96715376528965</td><td>50.25383893155994</td><td>15.01588971716452</td><td>15.771703207799664</td><td>-0.7558134906351448</td><td>15.01588971716452</td></tr>\n",
       "<tr><td>10</td><td>1860.2380045550628</td><td>151.83886477623673</td><td>36826.41678866414</td><td>5.808121919631958</td><td>1884.8079189778978</td><td>64.97306063372666</td><td>50.168216630050566</td><td>13.331210423951052</td><td>13.451788778054421</td><td>-0.12057835410336892</td><td>13.331210423951052</td></tr>\n",
       "<tr><td>...</td><td>...</td><td>...</td><td>...</td><td>...</td><td>...</td><td>...</td><td>...</td><td>...</td><td>...</td><td>...</td><td>...</td></tr>\n",
       "<tr><td>335</td><td>2326.20922779599</td><td>2033.1592627183509</td><td>2336.4137756792798</td><td>0.5863838195800781</td><td>190.28885446934152</td><td>65.43820498228426</td><td>50.094175196150395</td><td>15.47596769621269</td><td>17.34994381054217</td><td>-1.8739761143294817</td><td>15.47596769621269</td></tr>\n",
       "<tr><td>336</td><td>482.8817187417206</td><td>2035.0471318875482</td><td>662430.5687879454</td><td>31.725622177124023</td><td>10295.359625944853</td><td>65.44037785646002</td><td>50.386364912169306</td><td>11.081476615578556</td><td>11.058455689307399</td><td>0.023020926271156483</td><td>11.081476615578556</td></tr>\n",
       "<tr><td>337</td><td>2699.4630677095715</td><td>2036.8077694729427</td><td>5784753.191052038</td><td>292.9450988769531</td><td>95064.33401866884</td><td>65.43876294308043</td><td>50.035007880880514</td><td>9.416293471643149</td><td>10.013587545946017</td><td>-0.5972940743028676</td><td>9.416293471643149</td></tr>\n",
       "<tr><td>338</td><td>898.0891327785127</td><td>2036.214137278064</td><td>11941.683393527273</td><td>0.0</td><td>0.0</td><td>65.44028138294495</td><td>50.32054878032554</td><td>14.156548142529665</td><td>14.16266785430346</td><td>-0.006119711773795444</td><td>14.156548142529665</td></tr>\n",
       "<tr><td>339</td><td>10.175765709884999</td><td>2040.0730385847892</td><td>3103.5537861339517</td><td>0.0</td><td>0.0</td><td>65.44207026899105</td><td>50.46129102194222</td><td>15.19239690907811</td><td>15.715475689273175</td><td>-0.5230787801950658</td><td>15.19239690907811</td></tr>\n",
       "<tr><td>340</td><td>695.1881936504021</td><td>2040.420580231615</td><td>5696.39120270388</td><td>0.0</td><td>0.0</td><td>65.44151516731942</td><td>50.35270858859824</td><td>14.725561000971604</td><td>14.357164780199401</td><td>0.3683962207722029</td><td>14.725561000971604</td></tr>\n",
       "<tr><td>341</td><td>859.2614371443236</td><td>2040.3779322478276</td><td>2550.334735210193</td><td>0.0</td><td>0.0</td><td>65.44135132840164</td><td>50.326700977064114</td><td>15.343315712755057</td><td>17.171069727368316</td><td>-1.8277540146132587</td><td>15.343315712755057</td></tr>\n",
       "<tr><td>342</td><td>1267.2002786869916</td><td>2039.420131586623</td><td>3224.6646612249706</td><td>0.0</td><td>0.0</td><td>65.44073354753584</td><td>50.26203803196118</td><td>15.16296920390492</td><td>18.015340330318203</td><td>-2.852371126413283</td><td>15.16296920390492</td></tr>\n",
       "<tr><td>343</td><td>2698.1875780677424</td><td>2039.4473499328715</td><td>5703989.107058601</td><td>317.7327575683594</td><td>103108.23806217148</td><td>65.43941551403542</td><td>50.03520850399657</td><td>9.428386827028778</td><td>10.013587545946017</td><td>-0.585200718917239</td><td>9.428386827028778</td></tr>\n",
       "<tr><td>344</td><td>2699.9894412698404</td><td>2039.3511571819126</td><td>5708338.320783658</td><td>295.23646545410156</td><td>95807.91101819648</td><td>65.43939011540735</td><td>50.034922944938394</td><td>9.426789577033558</td><td>10.013587545946017</td><td>-0.5867979689124585</td><td>9.426789577033558</td></tr>\n",
       "</table>"
      ],
      "text/plain": [
       "<Table length=344>\n",
       "  id       xcenter       ...        BVcolor               Bmag       \n",
       "int32      float64       ...        float64             float64      \n",
       "----- ------------------ ... --------------------- ------------------\n",
       "    1  920.8631477826809 ... -0.016139929145090548 14.317614752878779\n",
       "    2  988.3139784981691 ...  -0.11587647472851614 14.588014133566151\n",
       "    3    848.31729368555 ...   -0.2917560918999751  15.04385053552601\n",
       "    4   1819.18717095187 ...  -0.18577612570880042  13.01533144477213\n",
       "    5 1891.7831566438974 ...   -0.1363917666917196  13.56858638669351\n",
       "    6  79.51911045012962 ...  -0.20214690708302818 15.937332056024344\n",
       "    7 1079.9116100401088 ...   -0.5545170076306789 14.501320542416185\n",
       "    8  2208.391584814512 ...   -0.5444122252447592 14.956399613155053\n",
       "    9 1320.0236147081998 ...   -0.7558134906351448  15.01588971716452\n",
       "   10 1860.2380045550628 ...  -0.12057835410336892 13.331210423951052\n",
       "  ...                ... ...                   ...                ...\n",
       "  335   2326.20922779599 ...   -1.8739761143294817  15.47596769621269\n",
       "  336  482.8817187417206 ...  0.023020926271156483 11.081476615578556\n",
       "  337 2699.4630677095715 ...   -0.5972940743028676  9.416293471643149\n",
       "  338  898.0891327785127 ... -0.006119711773795444 14.156548142529665\n",
       "  339 10.175765709884999 ...   -0.5230787801950658  15.19239690907811\n",
       "  340  695.1881936504021 ...    0.3683962207722029 14.725561000971604\n",
       "  341  859.2614371443236 ...   -1.8277540146132587 15.343315712755057\n",
       "  342 1267.2002786869916 ...    -2.852371126413283  15.16296920390492\n",
       "  343 2698.1875780677424 ...    -0.585200718917239  9.428386827028778\n",
       "  344 2699.9894412698404 ...   -0.5867979689124585  9.426789577033558"
      ]
     },
     "execution_count": 315,
     "metadata": {},
     "output_type": "execute_result"
    },
    {
     "data": {
      "image/png": "[encoded data removed]",
      "text/plain": [
       "<Figure size 432x288 with 1 Axes>"
      ]
     },
     "metadata": {
      "needs_background": "light"
     },
     "output_type": "display_data"
    }
   ],
   "source": [
    "from matplotlib import pyplot as plt\n",
    "# plt.hist(d2d_sdss.arcsec, histtype='step', range=(0,2))\n",
    "# plt.xlabel('separation [arcsec]')\n",
    "# plt.tight_layout()\n",
    "plt.hist(d2d_NGC1545BmagVmagBVcolorLCO.arcsec, histtype='step', range=(0,2))\n",
    "plt.xlabel('separation [arcsec]')\n",
    "plt.tight_layout()\n",
    "NGC1545BmagVmagBVcolorLCO"
   ]
  },
  {
   "cell_type": "code",
   "execution_count": 316,
   "metadata": {},
   "outputs": [
    {
     "data": {
      "text/plain": [
       "(18.0, 9.0)"
      ]
     },
     "execution_count": 316,
     "metadata": {},
     "output_type": "execute_result"
    },
    {
     "data": {
      "image/png": "[encoded data removed]",
      "text/plain": [
       "<Figure size 792x720 with 1 Axes>"
      ]
     },
     "metadata": {
      "needs_background": "light"
     },
     "output_type": "display_data"
    }
   ],
   "source": [
    "Vmag = NGC1545BmagVmagBVcolorLCO['Vmag'][idx_NGC1545BmagVmagBVcolorLCO]\n",
    "ra = NGC1545BmagVmagBVcolorLCO['ra'][idx_NGC1545BmagVmagBVcolorLCO]\n",
    "dec = NGC1545BmagVmagBVcolorLCO['dec'][idx_NGC1545BmagVmagBVcolorLCO]\n",
    "BVcolor =NGC1545BmagVmagBVcolorLCO['BVcolor'][idx_NGC1545BmagVmagBVcolorLCO]\n",
    "Bmag = NGC1545BmagVmagBVcolorLCO['Bmag'][idx_NGC1545BmagVmagBVcolorLCO]\n",
    "\n",
    "fig = plt.figure(figsize=(11,10))\n",
    "plt.grid(True)\n",
    "plt.scatter(BVcolor, Vmag)\n",
    "plt.xlabel('B-V')\n",
    "plt.ylabel('V')\n",
    "plt.xlim(-0.5, 2.5)\n",
    "plt.ylim(18, 9) "
   ]
  }
 ],
 "metadata": {
  "kernelspec": {
   "display_name": "Python 3",
   "language": "python",
   "name": "python3"
  },
  "language_info": {
   "codemirror_mode": {
    "name": "ipython",
    "version": 3
   },
   "file_extension": ".py",
   "mimetype": "text/x-python",
   "name": "python",
   "nbconvert_exporter": "python",
   "pygments_lexer": "ipython3",
   "version": "3.8.8"
  }
 },
 "nbformat": 4,
 "nbformat_minor": 4
}
