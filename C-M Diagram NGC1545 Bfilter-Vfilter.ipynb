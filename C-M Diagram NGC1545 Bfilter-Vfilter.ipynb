{
 "cells": [
  {
   "cell_type": "code",
   "execution_count": 96,
   "metadata": {},
   "outputs": [
    {
     "name": "stdout",
     "output_type": "stream",
     "text": [
      "B Filtr result table:  ['id', 'xcenter', 'ycenter', 'aperture_sum', 'annulus_median', 'aper_bkg', 'aper_sum_bkgsub', 'noise', 'SNR', 'ra', 'dec', 'type', 'ins_mag', 'mag', 'MJD-OBS']\n",
      "\n",
      "\n"
     ]
    },
    {
     "data": {
      "text/html": [
       "<i>Table length=344</i>\n",
       "<table id=\"table2301340952368\" class=\"table-striped table-bordered table-condensed\">\n",
       "<thead><tr><th>id</th><th>xcenter</th><th>ycenter</th><th>aperture_sum</th><th>annulus_median</th><th>aper_bkg</th><th>aper_sum_bkgsub</th><th>noise</th><th>SNR</th><th>ra</th><th>dec</th><th>type</th><th>ins_mag</th><th>mag</th><th>MJD-OBS</th></tr></thead>\n",
       "<thead><tr><th>int32</th><th>float64</th><th>float64</th><th>float64</th><th>float64</th><th>float64</th><th>float64</th><th>float64</th><th>float64</th><th>float64</th><th>float64</th><th>str8</th><th>int32</th><th>float64</th><th>float64</th></tr></thead>\n",
       "<tr><td>1</td><td>920.8631477826809</td><td>1.0954601854175678</td><td>9684.348833683112</td><td>0.0</td><td>0.0</td><td>9684.348833683112</td><td>98.40908918226565</td><td>98.40908918226563</td><td>64.93505154531944</td><td>50.31705388841759</td><td>ref_star</td><td>-4</td><td>14.317614752878779</td><td>59542.2921992</td></tr>\n",
       "<tr><td>2</td><td>988.3139784981691</td><td>4.951586183830707</td><td>6812.513511459643</td><td>0.0</td><td>0.0</td><td>6812.513511459643</td><td>82.53795194611776</td><td>82.53795194611774</td><td>64.93605933458032</td><td>50.306363903439006</td><td>ref_star</td><td>-4</td><td>14.588014133566151</td><td>59542.2921992</td></tr>\n",
       "<tr><td>3</td><td>848.31729368555</td><td>15.559599782750793</td><td>5998.41651049537</td><td>6.881945848464966</td><td>2233.277161300666</td><td>3765.1393491947038</td><td>77.44944486886507</td><td>48.61415540898605</td><td>64.93858842270612</td><td>50.328560253771805</td><td>ref_star</td><td>-3</td><td>15.04385053552601</td><td>59542.2921992</td></tr>\n",
       "<tr><td>4</td><td>1819.18717095187</td><td>61.751130873801415</td><td>55535.10276450201</td><td>8.740543365478516</td><td>2836.415209491255</td><td>52698.68755501075</td><td>235.65886947980974</td><td>223.62276315479716</td><td>64.95073800573806</td><td>50.17468562909336</td><td>ref_star</td><td>-6</td><td>13.01533144477213</td><td>59542.2921992</td></tr>\n",
       "<tr><td>5</td><td>1891.7831566438974</td><td>62.64943042232616</td><td>28323.313996471556</td><td>8.210785388946533</td><td>2664.5021465209</td><td>25658.811849950656</td><td>168.2953178091166</td><td>152.46301670170834</td><td>64.95101096077899</td><td>50.16317858811073</td><td>ref_star</td><td>-5</td><td>13.56858638669351</td><td>59542.2921992</td></tr>\n",
       "<tr><td>6</td><td>79.51911045012962</td><td>82.84000784735639</td><td>3424.3400290878826</td><td>6.9233667850494385</td><td>2246.718771233476</td><td>1177.6212578544064</td><td>58.5178607699212</td><td>20.12413376634773</td><td>64.95476613131495</td><td>50.45045484962182</td><td>ref_star</td><td>0</td><td>15.937332056024344</td><td>59542.2921992</td></tr>\n",
       "<tr><td>7</td><td>1079.9116100401088</td><td>88.65658924419998</td><td>8852.324126605032</td><td>3.7796008586883545</td><td>1226.5275639191277</td><td>7625.796562685904</td><td>94.08679039379031</td><td>81.05066110522996</td><td>64.9568961124337</td><td>50.29188270172552</td><td>ref_star</td><td>-4</td><td>14.501320542416185</td><td>59542.2921992</td></tr>\n",
       "<tr><td>8</td><td>2208.391584814512</td><td>118.47450868018622</td><td>5884.51632501483</td><td>5.133046627044678</td><td>1665.737576622644</td><td>4218.778748392186</td><td>76.71060112536487</td><td>54.99603296678141</td><td>64.96503050809672</td><td>50.11301599514285</td><td>ref_star</td><td>-3</td><td>14.956399613155053</td><td>59542.2921992</td></tr>\n",
       "<tr><td>9</td><td>1320.0236147081998</td><td>129.37487467205926</td><td>5664.496048438068</td><td>5.423170804977417</td><td>1759.8864866526233</td><td>3904.609561785445</td><td>75.26284640138232</td><td>51.879642459466304</td><td>64.96715376528965</td><td>50.25383893155994</td><td>ref_star</td><td>0</td><td>15.01588971716452</td><td>59542.2921992</td></tr>\n",
       "<tr><td>10</td><td>1860.2380045550628</td><td>151.83886477623673</td><td>36826.41678866414</td><td>5.808121919631958</td><td>1884.8079189778978</td><td>34941.60886968624</td><td>191.90210209548027</td><td>182.08038623933967</td><td>64.97306063372666</td><td>50.168216630050566</td><td>ref_star</td><td>-6</td><td>13.331210423951052</td><td>59542.2921992</td></tr>\n",
       "<tr><td>...</td><td>...</td><td>...</td><td>...</td><td>...</td><td>...</td><td>...</td><td>...</td><td>...</td><td>...</td><td>...</td><td>...</td><td>...</td><td>...</td><td>...</td></tr>\n",
       "<tr><td>335</td><td>2326.20922779599</td><td>2033.1592627183509</td><td>2336.4137756792798</td><td>0.5863838195800781</td><td>190.28885446934152</td><td>2146.1249212099383</td><td>48.336464244701226</td><td>44.39970847568153</td><td>65.43820498228426</td><td>50.094175196150395</td><td>ref_star</td><td>0</td><td>15.47596769621269</td><td>59542.2921992</td></tr>\n",
       "<tr><td>336</td><td>482.8817187417206</td><td>2035.0471318875482</td><td>662430.5687879454</td><td>31.725622177124023</td><td>10295.359625944853</td><td>652135.2091620006</td><td>813.8983774329234</td><td>801.2489362847336</td><td>65.44037785646002</td><td>50.386364912169306</td><td>ref_star</td><td>-9</td><td>11.081476615578556</td><td>59542.2921992</td></tr>\n",
       "<tr><td>337</td><td>2699.4630677095715</td><td>2036.8077694729427</td><td>5784753.191052038</td><td>292.9450988769531</td><td>95064.33401866884</td><td>5689688.857033369</td><td>2405.1513863064915</td><td>2365.6260846727114</td><td>65.43876294308043</td><td>50.035007880880514</td><td>ref_star</td><td>0</td><td>9.416293471643149</td><td>59542.2921992</td></tr>\n",
       "<tr><td>338</td><td>898.0891327785127</td><td>2036.214137278064</td><td>11941.683393527273</td><td>0.0</td><td>0.0</td><td>11941.683393527273</td><td>109.27800965211287</td><td>109.27800965211287</td><td>65.44028138294495</td><td>50.32054878032554</td><td>ref_star</td><td>-4</td><td>14.156548142529665</td><td>59542.2921992</td></tr>\n",
       "<tr><td>339</td><td>10.175765709884999</td><td>2040.0730385847892</td><td>3103.5537861339517</td><td>0.0</td><td>0.0</td><td>3103.5537861339517</td><td>55.70954842873842</td><td>55.70954842873842</td><td>65.44207026899105</td><td>50.46129102194222</td><td>ref_star</td><td>0</td><td>15.19239690907811</td><td>59542.2921992</td></tr>\n",
       "<tr><td>340</td><td>695.1881936504021</td><td>2040.420580231615</td><td>5696.39120270388</td><td>0.0</td><td>0.0</td><td>5696.39120270388</td><td>75.47444072468427</td><td>75.47444072468427</td><td>65.44151516731942</td><td>50.35270858859824</td><td>ref_star</td><td>-4</td><td>14.725561000971604</td><td>59542.2921992</td></tr>\n",
       "<tr><td>341</td><td>859.2614371443236</td><td>2040.3779322478276</td><td>2550.334735210193</td><td>0.0</td><td>0.0</td><td>2550.334735210193</td><td>50.50083895550838</td><td>50.500838955508385</td><td>65.44135132840164</td><td>50.326700977064114</td><td>ref_star</td><td>0</td><td>15.343315712755057</td><td>59542.2921992</td></tr>\n",
       "<tr><td>342</td><td>1267.2002786869916</td><td>2039.420131586623</td><td>3224.6646612249706</td><td>0.0</td><td>0.0</td><td>3224.6646612249706</td><td>56.78613088796393</td><td>56.78613088796392</td><td>65.44073354753584</td><td>50.26203803196118</td><td>ref_star</td><td>-3</td><td>15.16296920390492</td><td>59542.2921992</td></tr>\n",
       "<tr><td>343</td><td>2698.1875780677424</td><td>2039.4473499328715</td><td>5703989.107058601</td><td>317.7327575683594</td><td>103108.23806217148</td><td>5600880.86899643</td><td>2388.3025576879077</td><td>2345.1303734391963</td><td>65.43941551403542</td><td>50.03520850399657</td><td>ref_star</td><td>0</td><td>9.428386827028778</td><td>59542.2921992</td></tr>\n",
       "<tr><td>344</td><td>2699.9894412698404</td><td>2039.3511571819126</td><td>5708338.320783658</td><td>295.23646545410156</td><td>95807.91101819648</td><td>5612530.409765461</td><td>2389.212908215519</td><td>2349.112710075474</td><td>65.43939011540735</td><td>50.034922944938394</td><td>ref_star</td><td>0</td><td>9.426789577033558</td><td>59542.2921992</td></tr>\n",
       "</table>"
      ],
      "text/plain": [
       "<Table length=344>\n",
       "  id       xcenter            ycenter       ...        mag            MJD-OBS   \n",
       "int32      float64            float64       ...      float64          float64   \n",
       "----- ------------------ ------------------ ... ------------------ -------------\n",
       "    1  920.8631477826809 1.0954601854175678 ... 14.317614752878779 59542.2921992\n",
       "    2  988.3139784981691  4.951586183830707 ... 14.588014133566151 59542.2921992\n",
       "    3    848.31729368555 15.559599782750793 ...  15.04385053552601 59542.2921992\n",
       "    4   1819.18717095187 61.751130873801415 ...  13.01533144477213 59542.2921992\n",
       "    5 1891.7831566438974  62.64943042232616 ...  13.56858638669351 59542.2921992\n",
       "    6  79.51911045012962  82.84000784735639 ... 15.937332056024344 59542.2921992\n",
       "    7 1079.9116100401088  88.65658924419998 ... 14.501320542416185 59542.2921992\n",
       "    8  2208.391584814512 118.47450868018622 ... 14.956399613155053 59542.2921992\n",
       "    9 1320.0236147081998 129.37487467205926 ...  15.01588971716452 59542.2921992\n",
       "   10 1860.2380045550628 151.83886477623673 ... 13.331210423951052 59542.2921992\n",
       "  ...                ...                ... ...                ...           ...\n",
       "  335   2326.20922779599 2033.1592627183509 ...  15.47596769621269 59542.2921992\n",
       "  336  482.8817187417206 2035.0471318875482 ... 11.081476615578556 59542.2921992\n",
       "  337 2699.4630677095715 2036.8077694729427 ...  9.416293471643149 59542.2921992\n",
       "  338  898.0891327785127  2036.214137278064 ... 14.156548142529665 59542.2921992\n",
       "  339 10.175765709884999 2040.0730385847892 ...  15.19239690907811 59542.2921992\n",
       "  340  695.1881936504021  2040.420580231615 ... 14.725561000971604 59542.2921992\n",
       "  341  859.2614371443236 2040.3779322478276 ... 15.343315712755057 59542.2921992\n",
       "  342 1267.2002786869916  2039.420131586623 ...  15.16296920390492 59542.2921992\n",
       "  343 2698.1875780677424 2039.4473499328715 ...  9.428386827028778 59542.2921992\n",
       "  344 2699.9894412698404 2039.3511571819126 ...  9.426789577033558 59542.2921992"
      ]
     },
     "execution_count": 96,
     "metadata": {},
     "output_type": "execute_result"
    }
   ],
   "source": [
    "from astropy.io import ascii\n",
    "dataBfiltr = ascii.read('ogg0m404-kb82-20211123-0108-e91-phot.csv', format='csv')\n",
    "print('B Filtr result table: ', dataBfiltr.colnames)\n",
    "print('\\n')\n",
    "dataBfiltr"
   ]
  },
  {
   "cell_type": "code",
   "execution_count": 97,
   "metadata": {
    "scrolled": true
   },
   "outputs": [
    {
     "name": "stdout",
     "output_type": "stream",
     "text": [
      "V Filtr result table:  ['id', 'xcenter', 'ycenter', 'aperture_sum', 'annulus_median', 'aper_bkg', 'aper_sum_bkgsub', 'noise', 'SNR', 'ra', 'dec', 'type', 'ins_mag', 'mag', 'MJD-OBS']\n",
      "\n",
      "\n"
     ]
    },
    {
     "data": {
      "text/html": [
       "<i>Table length=1190</i>\n",
       "<table id=\"table2301340781824\" class=\"table-striped table-bordered table-condensed\">\n",
       "<thead><tr><th>id</th><th>xcenter</th><th>ycenter</th><th>aperture_sum</th><th>annulus_median</th><th>aper_bkg</th><th>aper_sum_bkgsub</th><th>noise</th><th>SNR</th><th>ra</th><th>dec</th><th>type</th><th>ins_mag</th><th>mag</th><th>MJD-OBS</th></tr></thead>\n",
       "<thead><tr><th>int32</th><th>float64</th><th>float64</th><th>float64</th><th>float64</th><th>float64</th><th>float64</th><th>float64</th><th>float64</th><th>float64</th><th>float64</th><th>str8</th><th>int32</th><th>float64</th><th>float64</th></tr></thead>\n",
       "<tr><td>1</td><td>1310.4407037860187</td><td>0.31463133019772144</td><td>15403.056522835168</td><td>0.0</td><td>0.0</td><td>15403.056522835168</td><td>124.10905093036192</td><td>124.10905093036192</td><td>64.93400636125438</td><td>50.25559879971127</td><td>ref_star</td><td>-5</td><td>15.759038302131234</td><td>59542.2938352</td></tr>\n",
       "<tr><td>2</td><td>2530.4005396178422</td><td>1.1359465756868983</td><td>15834.520113796349</td><td>0.0</td><td>0.0</td><td>15834.520113796349</td><td>125.83528962018703</td><td>125.83528962018703</td><td>64.93507830139454</td><td>50.062248177702045</td><td>ref_star</td><td>0</td><td>15.729795036505998</td><td>59542.2938352</td></tr>\n",
       "<tr><td>3</td><td>648.9413778529907</td><td>2.80442671703442</td><td>16050.01710121553</td><td>14.642583847045898</td><td>3016.757863113976</td><td>13033.259238101553</td><td>126.68866208629535</td><td>102.87628761304471</td><td>64.93415066173829</td><td>50.36044068405461</td><td>ref_star</td><td>0</td><td>15.935877174726283</td><td>59542.2938352</td></tr>\n",
       "<tr><td>4</td><td>922.5492867794417</td><td>5.447519574609512</td><td>62536.55317011193</td><td>16.159077167510986</td><td>3329.195421721219</td><td>59207.357748390714</td><td>250.0730956542745</td><td>236.76020642478372</td><td>64.93500253965428</td><td>50.317077963180566</td><td>ref_star</td><td>-6</td><td>14.33375468202387</td><td>59542.2938352</td></tr>\n",
       "<tr><td>5</td><td>1321.8833982780393</td><td>5.501670444046774</td><td>16140.074229414417</td><td>20.23964500427246</td><td>4169.899851766446</td><td>11970.17437764797</td><td>127.04359184710741</td><td>94.22100086758932</td><td>64.93530029172983</td><td>50.25378761445843</td><td>ref_star</td><td>0</td><td>16.02594332770142</td><td>59542.2938352</td></tr>\n",
       "<tr><td>6</td><td>1792.9477742522035</td><td>5.8826670910255645</td><td>7655.655038037571</td><td>16.448503494262695</td><td>3388.8248666430295</td><td>4266.830171394542</td><td>87.4966001513063</td><td>48.76566819757556</td><td>64.93572899599751</td><td>50.179128809609765</td><td>ref_star</td><td>0</td><td>17.117862283651668</td><td>59542.2938352</td></tr>\n",
       "<tr><td>7</td><td>2516.137582167336</td><td>7.465229545175494</td><td>9456.997169066486</td><td>20.737525939941406</td><td>4272.476435466655</td><td>5184.520733599831</td><td>97.2470933707866</td><td>53.312860609953006</td><td>64.93663086575916</td><td>50.064511558682945</td><td>ref_star</td><td>0</td><td>16.911654900294934</td><td>59542.2938352</td></tr>\n",
       "<tr><td>8</td><td>317.77612807699546</td><td>8.327207160470417</td><td>24827.11619407674</td><td>21.53074073791504</td><td>4435.899571978733</td><td>20391.216622098007</td><td>157.5662279616947</td><td>129.4136242637936</td><td>64.93528669161165</td><td>50.412929144017156</td><td>ref_star</td><td>-5</td><td>15.46208129895098</td><td>59542.2938352</td></tr>\n",
       "<tr><td>9</td><td>989.7670665261528</td><td>9.781292504067366</td><td>46993.11617873595</td><td>25.514572143554688</td><td>5256.673749803124</td><td>41736.44242893283</td><td>216.77895695554943</td><td>192.529953160956</td><td>64.93612588049834</td><td>50.30642661500714</td><td>ref_star</td><td>-6</td><td>14.703890608294667</td><td>59542.2938352</td></tr>\n",
       "<tr><td>10</td><td>2003.9877673171907</td><td>11.421676404731503</td><td>6141.390720599026</td><td>25.266737937927246</td><td>5205.613377099435</td><td>935.7773434995916</td><td>78.36702572255136</td><td>11.940957754510093</td><td>64.93724829371781</td><td>50.145683618828116</td><td>ref_star</td><td>0</td><td>18.723909353163982</td><td>59542.2938352</td></tr>\n",
       "<tr><td>...</td><td>...</td><td>...</td><td>...</td><td>...</td><td>...</td><td>...</td><td>...</td><td>...</td><td>...</td><td>...</td><td>...</td><td>...</td><td>...</td><td>...</td></tr>\n",
       "<tr><td>1181</td><td>455.67725178938736</td><td>2031.3783502400365</td><td>16527.848252108543</td><td>35.562164306640625</td><td>7326.7423237636585</td><td>9201.105928344885</td><td>128.56067926122878</td><td>71.57014089548099</td><td>65.43830514876332</td><td>50.39091129529633</td><td>ref_star</td><td>0</td><td>16.304435529957733</td><td>59542.2938352</td></tr>\n",
       "<tr><td>1182</td><td>2691.8393794149156</td><td>2032.1875112054663</td><td>491860.5183463822</td><td>389.82806396484375</td><td>80314.84671782833</td><td>411545.6716285539</td><td>701.3276825752582</td><td>586.8093928894524</td><td>65.4363647222473</td><td>50.03650380196328</td><td>ref_star</td><td>0</td><td>12.281406403767784</td><td>59542.2938352</td></tr>\n",
       "<tr><td>1183</td><td>2314.374050437079</td><td>2035.6141379077653</td><td>7129.27639792309</td><td>17.970979690551758</td><td>3702.4950552201294</td><td>3426.781342702961</td><td>84.43504247599506</td><td>40.58482405189998</td><td>65.43757057598008</td><td>50.096325544694096</td><td>ref_star</td><td>0</td><td>17.34994381054217</td><td>59542.2938352</td></tr>\n",
       "<tr><td>1184</td><td>2701.06599980456</td><td>2039.139872612586</td><td>3775050.0214843946</td><td>1154.9951171875</td><td>237959.40921564843</td><td>3537090.612268746</td><td>1942.9487953840664</td><td>1820.4754652680192</td><td>65.4380714011327</td><td>50.03503724764074</td><td>ref_star</td><td>0</td><td>10.00436949381753</td><td>59542.2938352</td></tr>\n",
       "<tr><td>1185</td><td>296.7108414724993</td><td>2039.9478230568157</td><td>4325.098842979232</td><td>6.55890417098999</td><td>1351.306978189987</td><td>2973.7918647892457</td><td>65.76548367479124</td><td>45.218125050133835</td><td>65.44058992266993</td><td>50.416100236563786</td><td>ref_star</td><td>0</td><td>17.500025378843343</td><td>59542.2938352</td></tr>\n",
       "<tr><td>1186</td><td>484.4231992829815</td><td>2039.608695536737</td><td>1327199.5187861207</td><td>99.53908157348633</td><td>20507.67201749984</td><td>1306691.846768621</td><td>1152.0414570605178</td><td>1134.2402990450535</td><td>65.44032322724152</td><td>50.386350317451566</td><td>ref_star</td><td>-10</td><td>11.058455689307399</td><td>59542.2938352</td></tr>\n",
       "<tr><td>1187</td><td>899.7865636057124</td><td>2040.3265510334616</td><td>70864.34261627431</td><td>6.167639255523682</td><td>1270.696102225514</td><td>69593.6465140488</td><td>266.203573635431</td><td>261.4301737712888</td><td>65.44009873522575</td><td>50.32051952816474</td><td>ref_star</td><td>-6</td><td>14.16266785430346</td><td>59542.2938352</td></tr>\n",
       "<tr><td>1188</td><td>2125.280449918863</td><td>2039.892833082313</td><td>6013.278731842264</td><td>1.7699350714683533</td><td>364.65323332470274</td><td>5648.625498517562</td><td>77.54533339822754</td><td>72.84288107331386</td><td>65.43880918027591</td><td>50.12629214874509</td><td>ref_star</td><td>0</td><td>16.820902366496867</td><td>59542.2938352</td></tr>\n",
       "<tr><td>1189</td><td>2701.72727805617</td><td>2039.8345681560406</td><td>3733544.6318114866</td><td>1102.3961791992188</td><td>227122.64287542328</td><td>3506421.9889360634</td><td>1932.2382440608835</td><td>1814.6944351783457</td><td>65.43824217996405</td><td>50.0349320173191</td><td>ref_star</td><td>0</td><td>10.013587545946017</td><td>59542.2938352</td></tr>\n",
       "<tr><td>1190</td><td>874.5216141576243</td><td>2040.5877025737918</td><td>5197.056398212856</td><td>5.530360460281372</td><td>1139.3998886183165</td><td>4057.65650959454</td><td>72.09061241391181</td><td>56.28550477969731</td><td>65.44018804120546</td><td>50.3245235812835</td><td>ref_star</td><td>0</td><td>17.171069727368316</td><td>59542.2938352</td></tr>\n",
       "</table>"
      ],
      "text/plain": [
       "<Table length=1190>\n",
       "  id       xcenter       ...        mag            MJD-OBS   \n",
       "int32      float64       ...      float64          float64   \n",
       "----- ------------------ ... ------------------ -------------\n",
       "    1 1310.4407037860187 ... 15.759038302131234 59542.2938352\n",
       "    2 2530.4005396178422 ... 15.729795036505998 59542.2938352\n",
       "    3  648.9413778529907 ... 15.935877174726283 59542.2938352\n",
       "    4  922.5492867794417 ...  14.33375468202387 59542.2938352\n",
       "    5 1321.8833982780393 ...  16.02594332770142 59542.2938352\n",
       "    6 1792.9477742522035 ... 17.117862283651668 59542.2938352\n",
       "    7  2516.137582167336 ... 16.911654900294934 59542.2938352\n",
       "    8 317.77612807699546 ...  15.46208129895098 59542.2938352\n",
       "    9  989.7670665261528 ... 14.703890608294667 59542.2938352\n",
       "   10 2003.9877673171907 ... 18.723909353163982 59542.2938352\n",
       "  ...                ... ...                ...           ...\n",
       " 1181 455.67725178938736 ... 16.304435529957733 59542.2938352\n",
       " 1182 2691.8393794149156 ... 12.281406403767784 59542.2938352\n",
       " 1183  2314.374050437079 ...  17.34994381054217 59542.2938352\n",
       " 1184   2701.06599980456 ...  10.00436949381753 59542.2938352\n",
       " 1185  296.7108414724993 ... 17.500025378843343 59542.2938352\n",
       " 1186  484.4231992829815 ... 11.058455689307399 59542.2938352\n",
       " 1187  899.7865636057124 ...  14.16266785430346 59542.2938352\n",
       " 1188  2125.280449918863 ... 16.820902366496867 59542.2938352\n",
       " 1189   2701.72727805617 ... 10.013587545946017 59542.2938352\n",
       " 1190  874.5216141576243 ... 17.171069727368316 59542.2938352"
      ]
     },
     "execution_count": 97,
     "metadata": {},
     "output_type": "execute_result"
    }
   ],
   "source": [
    "from astropy.io import ascii\n",
    "dataVfiltr = ascii.read('ogg0m404-kb82-20211123-0109-e91phot.csv', format='csv')\n",
    "print('V Filtr result table: ', dataVfiltr.colnames)\n",
    "print('\\n')\n",
    "dataVfiltr"
   ]
  },
  {
   "cell_type": "code",
   "execution_count": 98,
   "metadata": {},
   "outputs": [],
   "source": [
    "from astropy import units as u\n",
    "from astropy.coordinates import SkyCoord"
   ]
  },
  {
   "cell_type": "code",
   "execution_count": 99,
   "metadata": {},
   "outputs": [],
   "source": [
    "coo_dataBfiltr = SkyCoord(dataBfiltr['ra']*u.deg, dataBfiltr['dec']*u.deg)\n",
    "coo_dataVfiltr = SkyCoord(dataVfiltr['ra']*u.deg, dataVfiltr['dec']*u.deg)"
   ]
  },
  {
   "cell_type": "code",
   "execution_count": 100,
   "metadata": {},
   "outputs": [],
   "source": [
    "# idx_sdss, d2d_sdss, d3d_sdss = coo_twomass.match_to_catalog_sky(coo_sdss)\n",
    "idx_dataVfiltr, d2d_dataVfiltr, d3d_dataVfiltr = coo_dataBfiltr.match_to_catalog_sky(coo_dataVfiltr)"
   ]
  },
  {
   "cell_type": "code",
   "execution_count": 101,
   "metadata": {},
   "outputs": [
    {
     "data": {
      "image/png": "[encoded data removed]",
      "text/plain": [
       "<Figure size 432x288 with 1 Axes>"
      ]
     },
     "metadata": {
      "needs_background": "light"
     },
     "output_type": "display_data"
    }
   ],
   "source": [
    "from matplotlib import pyplot as plt\n",
    "# plt.hist(d2d_sdss.arcsec, histtype='step', range=(0,2))\n",
    "# plt.xlabel('separation [arcsec]')\n",
    "# plt.tight_layout()\n",
    "plt.hist(d2d_dataVfiltr.arcsec, histtype='step', range=(0,2))\n",
    "plt.xlabel('separation [arcsec]')\n",
    "plt.tight_layout()"
   ]
  },
  {
   "cell_type": "code",
   "execution_count": 102,
   "metadata": {},
   "outputs": [
    {
     "data": {
      "text/plain": [
       "(18.0, 9.0)"
      ]
     },
     "execution_count": 102,
     "metadata": {},
     "output_type": "execute_result"
    },
    {
     "data": {
      "image/png": "[encoded data removed]",
      "text/plain": [
       "<Figure size 792x720 with 1 Axes>"
      ]
     },
     "metadata": {
      "needs_background": "light"
     },
     "output_type": "display_data"
    }
   ],
   "source": [
    "Vmag = dataVfiltr['mag'][idx_dataVfiltr]\n",
    "ra = dataVfiltr['ra'][idx_dataVfiltr]\n",
    "dec = dataVfiltr['dec'][idx_dataVfiltr]\n",
    "Bmag = dataBfiltr['mag']\n",
    "BVcolor = Bmag - Vmag\n",
    "\n",
    "fig = plt.figure(figsize=(11,10))\n",
    "plt.grid(True)\n",
    "plt.scatter(BVcolor, Vmag)\n",
    "plt.xlabel('B-V (Color)')\n",
    "plt.ylabel('Magnitud V')\n",
    "plt.xlim(-0.5, 1.6)\n",
    "plt.ylim(18, 9) "
   ]
  },
  {
   "cell_type": "code",
   "execution_count": 118,
   "metadata": {},
   "outputs": [
    {
     "name": "stdout",
     "output_type": "stream",
     "text": [
      "Comumn names of TestTab:  ['id', 'xcenter', 'ycenter', 'aperture_sum', 'annulus_median', 'aper_bkg', 'aper_sum_bkgsub', 'noise', 'SNR', 'ra', 'dec', 'type', 'ins_mag', 'mag', 'MJD-OBS']\n"
     ]
    }
   ],
   "source": [
    "TestTab = dataBfiltr\n",
    "print('Comumn names of TestTab: ', TestTab.colnames)"
   ]
  },
  {
   "cell_type": "code",
   "execution_count": 120,
   "metadata": {},
   "outputs": [
    {
     "name": "stdout",
     "output_type": "stream",
     "text": [
      "Comumn names of TestTab:  ['id', 'xcenter', 'ycenter', 'aperture_sum', 'annulus_median', 'aper_bkg', 'ra', 'dec', 'mag']\n"
     ]
    }
   ],
   "source": [
    "del TestTab['aper_sum_bkgsub', 'noise', 'SNR', 'type', 'ins_mag','MJD-OBS']\n",
    "print('Comumn names of TestTab: ', TestTab.colnames)"
   ]
  },
  {
   "cell_type": "code",
   "execution_count": 124,
   "metadata": {},
   "outputs": [
    {
     "name": "stdout",
     "output_type": "stream",
     "text": [
      "Comumn names of TestTab:  ['id', 'xcenter', 'ycenter', 'aperture_sum', 'annulus_median', 'aper_bkg', 'ra', 'dec', 'mag', 'Vmag', 'BVcolor', 'Bmag']\n",
      "\n",
      "\n"
     ]
    },
    {
     "data": {
      "text/html": [
       "<i>Table length=344</i>\n",
       "<table id=\"table2301340952368\" class=\"table-striped table-bordered table-condensed\">\n",
       "<thead><tr><th>id</th><th>xcenter</th><th>ycenter</th><th>aperture_sum</th><th>annulus_median</th><th>aper_bkg</th><th>ra</th><th>dec</th><th>mag</th><th>Vmag</th><th>BVcolor</th><th>Bmag</th></tr></thead>\n",
       "<thead><tr><th>int32</th><th>float64</th><th>float64</th><th>float64</th><th>float64</th><th>float64</th><th>float64</th><th>float64</th><th>float64</th><th>float64</th><th>float64</th><th>float64</th></tr></thead>\n",
       "<tr><td>1</td><td>920.8631477826809</td><td>1.0954601854175678</td><td>9684.348833683112</td><td>0.0</td><td>0.0</td><td>64.93505154531944</td><td>50.31705388841759</td><td>14.317614752878779</td><td>14.33375468202387</td><td>-0.016139929145090548</td><td>14.317614752878779</td></tr>\n",
       "<tr><td>2</td><td>988.3139784981691</td><td>4.951586183830707</td><td>6812.513511459643</td><td>0.0</td><td>0.0</td><td>64.93605933458032</td><td>50.306363903439006</td><td>14.588014133566151</td><td>14.703890608294667</td><td>-0.11587647472851614</td><td>14.588014133566151</td></tr>\n",
       "<tr><td>3</td><td>848.31729368555</td><td>15.559599782750793</td><td>5998.41651049537</td><td>6.881945848464966</td><td>2233.277161300666</td><td>64.93858842270612</td><td>50.328560253771805</td><td>15.04385053552601</td><td>15.335606627425985</td><td>-0.2917560918999751</td><td>15.04385053552601</td></tr>\n",
       "<tr><td>4</td><td>1819.18717095187</td><td>61.751130873801415</td><td>55535.10276450201</td><td>8.740543365478516</td><td>2836.415209491255</td><td>64.95073800573806</td><td>50.17468562909336</td><td>13.01533144477213</td><td>13.20110757048093</td><td>-0.18577612570880042</td><td>13.01533144477213</td></tr>\n",
       "<tr><td>5</td><td>1891.7831566438974</td><td>62.64943042232616</td><td>28323.313996471556</td><td>8.210785388946533</td><td>2664.5021465209</td><td>64.95101096077899</td><td>50.16317858811073</td><td>13.56858638669351</td><td>13.70497815338523</td><td>-0.1363917666917196</td><td>13.56858638669351</td></tr>\n",
       "<tr><td>6</td><td>79.51911045012962</td><td>82.84000784735639</td><td>3424.3400290878826</td><td>6.9233667850494385</td><td>2246.718771233476</td><td>64.95476613131495</td><td>50.45045484962182</td><td>15.937332056024344</td><td>16.139478963107372</td><td>-0.20214690708302818</td><td>15.937332056024344</td></tr>\n",
       "<tr><td>7</td><td>1079.9116100401088</td><td>88.65658924419998</td><td>8852.324126605032</td><td>3.7796008586883545</td><td>1226.5275639191277</td><td>64.9568961124337</td><td>50.29188270172552</td><td>14.501320542416185</td><td>15.055837550046864</td><td>-0.5545170076306789</td><td>14.501320542416185</td></tr>\n",
       "<tr><td>8</td><td>2208.391584814512</td><td>118.47450868018622</td><td>5884.51632501483</td><td>5.133046627044678</td><td>1665.737576622644</td><td>64.96503050809672</td><td>50.11301599514285</td><td>14.956399613155053</td><td>15.500811838399812</td><td>-0.5444122252447592</td><td>14.956399613155053</td></tr>\n",
       "<tr><td>9</td><td>1320.0236147081998</td><td>129.37487467205926</td><td>5664.496048438068</td><td>5.423170804977417</td><td>1759.8864866526233</td><td>64.96715376528965</td><td>50.25383893155994</td><td>15.01588971716452</td><td>15.771703207799664</td><td>-0.7558134906351448</td><td>15.01588971716452</td></tr>\n",
       "<tr><td>10</td><td>1860.2380045550628</td><td>151.83886477623673</td><td>36826.41678866414</td><td>5.808121919631958</td><td>1884.8079189778978</td><td>64.97306063372666</td><td>50.168216630050566</td><td>13.331210423951052</td><td>13.451788778054421</td><td>-0.12057835410336892</td><td>13.331210423951052</td></tr>\n",
       "<tr><td>...</td><td>...</td><td>...</td><td>...</td><td>...</td><td>...</td><td>...</td><td>...</td><td>...</td><td>...</td><td>...</td><td>...</td></tr>\n",
       "<tr><td>335</td><td>2326.20922779599</td><td>2033.1592627183509</td><td>2336.4137756792798</td><td>0.5863838195800781</td><td>190.28885446934152</td><td>65.43820498228426</td><td>50.094175196150395</td><td>15.47596769621269</td><td>17.34994381054217</td><td>-1.8739761143294817</td><td>15.47596769621269</td></tr>\n",
       "<tr><td>336</td><td>482.8817187417206</td><td>2035.0471318875482</td><td>662430.5687879454</td><td>31.725622177124023</td><td>10295.359625944853</td><td>65.44037785646002</td><td>50.386364912169306</td><td>11.081476615578556</td><td>11.058455689307399</td><td>0.023020926271156483</td><td>11.081476615578556</td></tr>\n",
       "<tr><td>337</td><td>2699.4630677095715</td><td>2036.8077694729427</td><td>5784753.191052038</td><td>292.9450988769531</td><td>95064.33401866884</td><td>65.43876294308043</td><td>50.035007880880514</td><td>9.416293471643149</td><td>10.013587545946017</td><td>-0.5972940743028676</td><td>9.416293471643149</td></tr>\n",
       "<tr><td>338</td><td>898.0891327785127</td><td>2036.214137278064</td><td>11941.683393527273</td><td>0.0</td><td>0.0</td><td>65.44028138294495</td><td>50.32054878032554</td><td>14.156548142529665</td><td>14.16266785430346</td><td>-0.006119711773795444</td><td>14.156548142529665</td></tr>\n",
       "<tr><td>339</td><td>10.175765709884999</td><td>2040.0730385847892</td><td>3103.5537861339517</td><td>0.0</td><td>0.0</td><td>65.44207026899105</td><td>50.46129102194222</td><td>15.19239690907811</td><td>15.715475689273175</td><td>-0.5230787801950658</td><td>15.19239690907811</td></tr>\n",
       "<tr><td>340</td><td>695.1881936504021</td><td>2040.420580231615</td><td>5696.39120270388</td><td>0.0</td><td>0.0</td><td>65.44151516731942</td><td>50.35270858859824</td><td>14.725561000971604</td><td>14.357164780199401</td><td>0.3683962207722029</td><td>14.725561000971604</td></tr>\n",
       "<tr><td>341</td><td>859.2614371443236</td><td>2040.3779322478276</td><td>2550.334735210193</td><td>0.0</td><td>0.0</td><td>65.44135132840164</td><td>50.326700977064114</td><td>15.343315712755057</td><td>17.171069727368316</td><td>-1.8277540146132587</td><td>15.343315712755057</td></tr>\n",
       "<tr><td>342</td><td>1267.2002786869916</td><td>2039.420131586623</td><td>3224.6646612249706</td><td>0.0</td><td>0.0</td><td>65.44073354753584</td><td>50.26203803196118</td><td>15.16296920390492</td><td>18.015340330318203</td><td>-2.852371126413283</td><td>15.16296920390492</td></tr>\n",
       "<tr><td>343</td><td>2698.1875780677424</td><td>2039.4473499328715</td><td>5703989.107058601</td><td>317.7327575683594</td><td>103108.23806217148</td><td>65.43941551403542</td><td>50.03520850399657</td><td>9.428386827028778</td><td>10.013587545946017</td><td>-0.585200718917239</td><td>9.428386827028778</td></tr>\n",
       "<tr><td>344</td><td>2699.9894412698404</td><td>2039.3511571819126</td><td>5708338.320783658</td><td>295.23646545410156</td><td>95807.91101819648</td><td>65.43939011540735</td><td>50.034922944938394</td><td>9.426789577033558</td><td>10.013587545946017</td><td>-0.5867979689124585</td><td>9.426789577033558</td></tr>\n",
       "</table>"
      ],
      "text/plain": [
       "<Table length=344>\n",
       "  id       xcenter       ...        BVcolor               Bmag       \n",
       "int32      float64       ...        float64             float64      \n",
       "----- ------------------ ... --------------------- ------------------\n",
       "    1  920.8631477826809 ... -0.016139929145090548 14.317614752878779\n",
       "    2  988.3139784981691 ...  -0.11587647472851614 14.588014133566151\n",
       "    3    848.31729368555 ...   -0.2917560918999751  15.04385053552601\n",
       "    4   1819.18717095187 ...  -0.18577612570880042  13.01533144477213\n",
       "    5 1891.7831566438974 ...   -0.1363917666917196  13.56858638669351\n",
       "    6  79.51911045012962 ...  -0.20214690708302818 15.937332056024344\n",
       "    7 1079.9116100401088 ...   -0.5545170076306789 14.501320542416185\n",
       "    8  2208.391584814512 ...   -0.5444122252447592 14.956399613155053\n",
       "    9 1320.0236147081998 ...   -0.7558134906351448  15.01588971716452\n",
       "   10 1860.2380045550628 ...  -0.12057835410336892 13.331210423951052\n",
       "  ...                ... ...                   ...                ...\n",
       "  335   2326.20922779599 ...   -1.8739761143294817  15.47596769621269\n",
       "  336  482.8817187417206 ...  0.023020926271156483 11.081476615578556\n",
       "  337 2699.4630677095715 ...   -0.5972940743028676  9.416293471643149\n",
       "  338  898.0891327785127 ... -0.006119711773795444 14.156548142529665\n",
       "  339 10.175765709884999 ...   -0.5230787801950658  15.19239690907811\n",
       "  340  695.1881936504021 ...    0.3683962207722029 14.725561000971604\n",
       "  341  859.2614371443236 ...   -1.8277540146132587 15.343315712755057\n",
       "  342 1267.2002786869916 ...    -2.852371126413283  15.16296920390492\n",
       "  343 2698.1875780677424 ...    -0.585200718917239  9.428386827028778\n",
       "  344 2699.9894412698404 ...   -0.5867979689124585  9.426789577033558"
      ]
     },
     "execution_count": 124,
     "metadata": {},
     "output_type": "execute_result"
    }
   ],
   "source": [
    "TestTab['Vmag'] = Vmag\n",
    "TestTab['BVcolor'] = BVcolor\n",
    "TestTab['Bmag'] = Bmag\n",
    "print('Comumn names of TestTab: ', TestTab.colnames)\n",
    "print('\\n')\n",
    "TestTab"
   ]
  },
  {
   "cell_type": "code",
   "execution_count": 125,
   "metadata": {},
   "outputs": [],
   "source": [
    "name_csv = 'Test-photBandVandColor.csv'\n",
    "ascii.write(TestTab, name_csv, format='csv', overwrite=True )"
   ]
  },
  {
   "cell_type": "code",
   "execution_count": 126,
   "metadata": {},
   "outputs": [
    {
     "name": "stdout",
     "output_type": "stream",
     "text": [
      "NGC2437BmagVmagBVcolorLCO ['id', 'xcenter', 'ycenter', 'aperture_sum', 'annulus_median', 'aper_bkg', 'ra', 'dec', 'mag', 'Vmag', 'BVcolor', 'Bmag']\n",
      "\n",
      "\n"
     ]
    },
    {
     "data": {
      "text/html": [
       "<i>Table length=344</i>\n",
       "<table id=\"table2301320789248\" class=\"table-striped table-bordered table-condensed\">\n",
       "<thead><tr><th>id</th><th>xcenter</th><th>ycenter</th><th>aperture_sum</th><th>annulus_median</th><th>aper_bkg</th><th>ra</th><th>dec</th><th>mag</th><th>Vmag</th><th>BVcolor</th><th>Bmag</th></tr></thead>\n",
       "<thead><tr><th>int32</th><th>float64</th><th>float64</th><th>float64</th><th>float64</th><th>float64</th><th>float64</th><th>float64</th><th>float64</th><th>float64</th><th>float64</th><th>float64</th></tr></thead>\n",
       "<tr><td>1</td><td>920.8631477826809</td><td>1.0954601854175678</td><td>9684.348833683112</td><td>0.0</td><td>0.0</td><td>64.93505154531944</td><td>50.31705388841759</td><td>14.317614752878779</td><td>14.33375468202387</td><td>-0.016139929145090548</td><td>14.317614752878779</td></tr>\n",
       "<tr><td>2</td><td>988.3139784981691</td><td>4.951586183830707</td><td>6812.513511459643</td><td>0.0</td><td>0.0</td><td>64.93605933458032</td><td>50.306363903439006</td><td>14.588014133566151</td><td>14.703890608294667</td><td>-0.11587647472851614</td><td>14.588014133566151</td></tr>\n",
       "<tr><td>3</td><td>848.31729368555</td><td>15.559599782750793</td><td>5998.41651049537</td><td>6.881945848464966</td><td>2233.277161300666</td><td>64.93858842270612</td><td>50.328560253771805</td><td>15.04385053552601</td><td>15.335606627425985</td><td>-0.2917560918999751</td><td>15.04385053552601</td></tr>\n",
       "<tr><td>4</td><td>1819.18717095187</td><td>61.751130873801415</td><td>55535.10276450201</td><td>8.740543365478516</td><td>2836.415209491255</td><td>64.95073800573806</td><td>50.17468562909336</td><td>13.01533144477213</td><td>13.20110757048093</td><td>-0.18577612570880042</td><td>13.01533144477213</td></tr>\n",
       "<tr><td>5</td><td>1891.7831566438974</td><td>62.64943042232616</td><td>28323.313996471556</td><td>8.210785388946533</td><td>2664.5021465209</td><td>64.95101096077899</td><td>50.16317858811073</td><td>13.56858638669351</td><td>13.70497815338523</td><td>-0.1363917666917196</td><td>13.56858638669351</td></tr>\n",
       "<tr><td>6</td><td>79.51911045012962</td><td>82.84000784735639</td><td>3424.3400290878826</td><td>6.9233667850494385</td><td>2246.718771233476</td><td>64.95476613131495</td><td>50.45045484962182</td><td>15.937332056024344</td><td>16.139478963107372</td><td>-0.20214690708302818</td><td>15.937332056024344</td></tr>\n",
       "<tr><td>7</td><td>1079.9116100401088</td><td>88.65658924419998</td><td>8852.324126605032</td><td>3.7796008586883545</td><td>1226.5275639191277</td><td>64.9568961124337</td><td>50.29188270172552</td><td>14.501320542416185</td><td>15.055837550046864</td><td>-0.5545170076306789</td><td>14.501320542416185</td></tr>\n",
       "<tr><td>8</td><td>2208.391584814512</td><td>118.47450868018622</td><td>5884.51632501483</td><td>5.133046627044678</td><td>1665.737576622644</td><td>64.96503050809672</td><td>50.11301599514285</td><td>14.956399613155053</td><td>15.500811838399812</td><td>-0.5444122252447592</td><td>14.956399613155053</td></tr>\n",
       "<tr><td>9</td><td>1320.0236147081998</td><td>129.37487467205926</td><td>5664.496048438068</td><td>5.423170804977417</td><td>1759.8864866526233</td><td>64.96715376528965</td><td>50.25383893155994</td><td>15.01588971716452</td><td>15.771703207799664</td><td>-0.7558134906351448</td><td>15.01588971716452</td></tr>\n",
       "<tr><td>10</td><td>1860.2380045550628</td><td>151.83886477623673</td><td>36826.41678866414</td><td>5.808121919631958</td><td>1884.8079189778978</td><td>64.97306063372666</td><td>50.168216630050566</td><td>13.331210423951052</td><td>13.451788778054421</td><td>-0.12057835410336892</td><td>13.331210423951052</td></tr>\n",
       "<tr><td>...</td><td>...</td><td>...</td><td>...</td><td>...</td><td>...</td><td>...</td><td>...</td><td>...</td><td>...</td><td>...</td><td>...</td></tr>\n",
       "<tr><td>335</td><td>2326.20922779599</td><td>2033.1592627183509</td><td>2336.4137756792798</td><td>0.5863838195800781</td><td>190.28885446934152</td><td>65.43820498228426</td><td>50.094175196150395</td><td>15.47596769621269</td><td>17.34994381054217</td><td>-1.8739761143294817</td><td>15.47596769621269</td></tr>\n",
       "<tr><td>336</td><td>482.8817187417206</td><td>2035.0471318875482</td><td>662430.5687879454</td><td>31.725622177124023</td><td>10295.359625944853</td><td>65.44037785646002</td><td>50.386364912169306</td><td>11.081476615578556</td><td>11.058455689307399</td><td>0.023020926271156483</td><td>11.081476615578556</td></tr>\n",
       "<tr><td>337</td><td>2699.4630677095715</td><td>2036.8077694729427</td><td>5784753.191052038</td><td>292.9450988769531</td><td>95064.33401866884</td><td>65.43876294308043</td><td>50.035007880880514</td><td>9.416293471643149</td><td>10.013587545946017</td><td>-0.5972940743028676</td><td>9.416293471643149</td></tr>\n",
       "<tr><td>338</td><td>898.0891327785127</td><td>2036.214137278064</td><td>11941.683393527273</td><td>0.0</td><td>0.0</td><td>65.44028138294495</td><td>50.32054878032554</td><td>14.156548142529665</td><td>14.16266785430346</td><td>-0.006119711773795444</td><td>14.156548142529665</td></tr>\n",
       "<tr><td>339</td><td>10.175765709884999</td><td>2040.0730385847892</td><td>3103.5537861339517</td><td>0.0</td><td>0.0</td><td>65.44207026899105</td><td>50.46129102194222</td><td>15.19239690907811</td><td>15.715475689273175</td><td>-0.5230787801950658</td><td>15.19239690907811</td></tr>\n",
       "<tr><td>340</td><td>695.1881936504021</td><td>2040.420580231615</td><td>5696.39120270388</td><td>0.0</td><td>0.0</td><td>65.44151516731942</td><td>50.35270858859824</td><td>14.725561000971604</td><td>14.357164780199401</td><td>0.3683962207722029</td><td>14.725561000971604</td></tr>\n",
       "<tr><td>341</td><td>859.2614371443236</td><td>2040.3779322478276</td><td>2550.334735210193</td><td>0.0</td><td>0.0</td><td>65.44135132840164</td><td>50.326700977064114</td><td>15.343315712755057</td><td>17.171069727368316</td><td>-1.8277540146132587</td><td>15.343315712755057</td></tr>\n",
       "<tr><td>342</td><td>1267.2002786869916</td><td>2039.420131586623</td><td>3224.6646612249706</td><td>0.0</td><td>0.0</td><td>65.44073354753584</td><td>50.26203803196118</td><td>15.16296920390492</td><td>18.015340330318203</td><td>-2.852371126413283</td><td>15.16296920390492</td></tr>\n",
       "<tr><td>343</td><td>2698.1875780677424</td><td>2039.4473499328715</td><td>5703989.107058601</td><td>317.7327575683594</td><td>103108.23806217148</td><td>65.43941551403542</td><td>50.03520850399657</td><td>9.428386827028778</td><td>10.013587545946017</td><td>-0.585200718917239</td><td>9.428386827028778</td></tr>\n",
       "<tr><td>344</td><td>2699.9894412698404</td><td>2039.3511571819126</td><td>5708338.320783658</td><td>295.23646545410156</td><td>95807.91101819648</td><td>65.43939011540735</td><td>50.034922944938394</td><td>9.426789577033558</td><td>10.013587545946017</td><td>-0.5867979689124585</td><td>9.426789577033558</td></tr>\n",
       "</table>"
      ],
      "text/plain": [
       "<Table length=344>\n",
       "  id       xcenter       ...        BVcolor               Bmag       \n",
       "int32      float64       ...        float64             float64      \n",
       "----- ------------------ ... --------------------- ------------------\n",
       "    1  920.8631477826809 ... -0.016139929145090548 14.317614752878779\n",
       "    2  988.3139784981691 ...  -0.11587647472851614 14.588014133566151\n",
       "    3    848.31729368555 ...   -0.2917560918999751  15.04385053552601\n",
       "    4   1819.18717095187 ...  -0.18577612570880042  13.01533144477213\n",
       "    5 1891.7831566438974 ...   -0.1363917666917196  13.56858638669351\n",
       "    6  79.51911045012962 ...  -0.20214690708302818 15.937332056024344\n",
       "    7 1079.9116100401088 ...   -0.5545170076306789 14.501320542416185\n",
       "    8  2208.391584814512 ...   -0.5444122252447592 14.956399613155053\n",
       "    9 1320.0236147081998 ...   -0.7558134906351448  15.01588971716452\n",
       "   10 1860.2380045550628 ...  -0.12057835410336892 13.331210423951052\n",
       "  ...                ... ...                   ...                ...\n",
       "  335   2326.20922779599 ...   -1.8739761143294817  15.47596769621269\n",
       "  336  482.8817187417206 ...  0.023020926271156483 11.081476615578556\n",
       "  337 2699.4630677095715 ...   -0.5972940743028676  9.416293471643149\n",
       "  338  898.0891327785127 ... -0.006119711773795444 14.156548142529665\n",
       "  339 10.175765709884999 ...   -0.5230787801950658  15.19239690907811\n",
       "  340  695.1881936504021 ...    0.3683962207722029 14.725561000971604\n",
       "  341  859.2614371443236 ...   -1.8277540146132587 15.343315712755057\n",
       "  342 1267.2002786869916 ...    -2.852371126413283  15.16296920390492\n",
       "  343 2698.1875780677424 ...    -0.585200718917239  9.428386827028778\n",
       "  344 2699.9894412698404 ...   -0.5867979689124585  9.426789577033558"
      ]
     },
     "execution_count": 126,
     "metadata": {},
     "output_type": "execute_result"
    }
   ],
   "source": [
    "from astropy.io import ascii\n",
    "NGC2437BmagVmagBVcolorLCO = ascii.read('Test-photBandVandColor.csv', format='csv')\n",
    "print('NGC2437BmagVmagBVcolorLCO', NGC2437BmagVmagBVcolorLCO.colnames)\n",
    "print('\\n')\n",
    "NGC2437BmagVmagBVcolorLCO"
   ]
  }
 ],
 "metadata": {
  "kernelspec": {
   "display_name": "Python 3",
   "language": "python",
   "name": "python3"
  },
  "language_info": {
   "codemirror_mode": {
    "name": "ipython",
    "version": 3
   },
   "file_extension": ".py",
   "mimetype": "text/x-python",
   "name": "python",
   "nbconvert_exporter": "python",
   "pygments_lexer": "ipython3",
   "version": "3.8.8"
  }
 },
 "nbformat": 4,
 "nbformat_minor": 4
}
